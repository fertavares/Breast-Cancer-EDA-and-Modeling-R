{
  "nbformat": 4,
  "nbformat_minor": 0,
  "metadata": {
    "colab": {
      "provenance": []
    },
    "kernelspec": {
      "name": "ir",
      "display_name": "R"
    },
    "language_info": {
      "name": "R"
    }
  },
  "cells": [
    {
      "cell_type": "markdown",
      "source": [
        "lendo dataset de câncer de mama de Wiscounsin"
      ],
      "metadata": {
        "id": "pIc4v9ioXzny"
      }
    },
    {
      "cell_type": "code",
      "source": [
        "library(readr)"
      ],
      "metadata": {
        "id": "dKln7WBMRhiC"
      },
      "execution_count": null,
      "outputs": []
    },
    {
      "cell_type": "code",
      "source": [
        "url <- \"https://archive.ics.uci.edu/ml/machine-learning-databases/breast-cancer-wisconsin/wdbc.data\"\n",
        "col_names <- c(\n",
        "  \"id\", \"diagnosis\",\n",
        "  \"radius-mean\", \"texture-mean\", \"perimeter-mean\", \"area-mean\", \"smoothness-mean\", \"compactness-mean\",\n",
        "  \"concavity-mean\", \"concave-points-mean\", \"symmetry-mean\", \"fractal-dimension-mean\",\n",
        "\n",
        "  \"radius-se\", \"texture-se\", \"perimeter-se\", \"area-se\", \"smoothness-se\", \"compactness-se\",\n",
        "  \"concavity-se\", \"concave-points-se\", \"symmetry-se\", \"fractal-dimension-se\",\n",
        "\n",
        "  \"radius-worst\", \"texture-worst\", \"perimeter-worst\", \"area-worst\", \"smoothness-worst\",\n",
        "  \"compactness-worst\", \"concavity-worst\", \"concave-points-worst\", \"symmetry-worst\", \"fractal-dimension-worst\"\n",
        ")\n",
        "x <- read_csv(url,col_names = col_names)\n",
        "ls(x)\n",
        "head(x)"
      ],
      "metadata": {
        "colab": {
          "base_uri": "https://localhost:8080/",
          "height": 601
        },
        "id": "W1psOgLWXN4c",
        "outputId": "23f4dc61-6f7b-48ed-f419-07f07dbd0309"
      },
      "execution_count": null,
      "outputs": [
        {
          "output_type": "stream",
          "name": "stderr",
          "text": [
            "\u001b[1mRows: \u001b[22m\u001b[34m569\u001b[39m \u001b[1mColumns: \u001b[22m\u001b[34m32\u001b[39m\n",
            "\u001b[36m──\u001b[39m \u001b[1mColumn specification\u001b[22m \u001b[36m────────────────────────────────────────────────────────\u001b[39m\n",
            "\u001b[1mDelimiter:\u001b[22m \",\"\n",
            "\u001b[31mchr\u001b[39m  (1): diagnosis\n",
            "\u001b[32mdbl\u001b[39m (31): id, radius-mean, texture-mean, perimeter-mean, area-mean, smoothne...\n",
            "\n",
            "\u001b[36mℹ\u001b[39m Use `spec()` to retrieve the full column specification for this data.\n",
            "\u001b[36mℹ\u001b[39m Specify the column types or set `show_col_types = FALSE` to quiet this message.\n"
          ]
        },
        {
          "output_type": "display_data",
          "data": {
            "text/html": [
              "<style>\n",
              ".list-inline {list-style: none; margin:0; padding: 0}\n",
              ".list-inline>li {display: inline-block}\n",
              ".list-inline>li:not(:last-child)::after {content: \"\\00b7\"; padding: 0 .5ex}\n",
              "</style>\n",
              "<ol class=list-inline><li>'area-mean'</li><li>'area-se'</li><li>'area-worst'</li><li>'compactness-mean'</li><li>'compactness-se'</li><li>'compactness-worst'</li><li>'concave-points-mean'</li><li>'concave-points-se'</li><li>'concave-points-worst'</li><li>'concavity-mean'</li><li>'concavity-se'</li><li>'concavity-worst'</li><li>'diagnosis'</li><li>'fractal-dimension-mean'</li><li>'fractal-dimension-se'</li><li>'fractal-dimension-worst'</li><li>'id'</li><li>'perimeter-mean'</li><li>'perimeter-se'</li><li>'perimeter-worst'</li><li>'radius-mean'</li><li>'radius-se'</li><li>'radius-worst'</li><li>'smoothness-mean'</li><li>'smoothness-se'</li><li>'smoothness-worst'</li><li>'symmetry-mean'</li><li>'symmetry-se'</li><li>'symmetry-worst'</li><li>'texture-mean'</li><li>'texture-se'</li><li>'texture-worst'</li></ol>\n"
            ],
            "text/markdown": "1. 'area-mean'\n2. 'area-se'\n3. 'area-worst'\n4. 'compactness-mean'\n5. 'compactness-se'\n6. 'compactness-worst'\n7. 'concave-points-mean'\n8. 'concave-points-se'\n9. 'concave-points-worst'\n10. 'concavity-mean'\n11. 'concavity-se'\n12. 'concavity-worst'\n13. 'diagnosis'\n14. 'fractal-dimension-mean'\n15. 'fractal-dimension-se'\n16. 'fractal-dimension-worst'\n17. 'id'\n18. 'perimeter-mean'\n19. 'perimeter-se'\n20. 'perimeter-worst'\n21. 'radius-mean'\n22. 'radius-se'\n23. 'radius-worst'\n24. 'smoothness-mean'\n25. 'smoothness-se'\n26. 'smoothness-worst'\n27. 'symmetry-mean'\n28. 'symmetry-se'\n29. 'symmetry-worst'\n30. 'texture-mean'\n31. 'texture-se'\n32. 'texture-worst'\n\n\n",
            "text/latex": "\\begin{enumerate*}\n\\item 'area-mean'\n\\item 'area-se'\n\\item 'area-worst'\n\\item 'compactness-mean'\n\\item 'compactness-se'\n\\item 'compactness-worst'\n\\item 'concave-points-mean'\n\\item 'concave-points-se'\n\\item 'concave-points-worst'\n\\item 'concavity-mean'\n\\item 'concavity-se'\n\\item 'concavity-worst'\n\\item 'diagnosis'\n\\item 'fractal-dimension-mean'\n\\item 'fractal-dimension-se'\n\\item 'fractal-dimension-worst'\n\\item 'id'\n\\item 'perimeter-mean'\n\\item 'perimeter-se'\n\\item 'perimeter-worst'\n\\item 'radius-mean'\n\\item 'radius-se'\n\\item 'radius-worst'\n\\item 'smoothness-mean'\n\\item 'smoothness-se'\n\\item 'smoothness-worst'\n\\item 'symmetry-mean'\n\\item 'symmetry-se'\n\\item 'symmetry-worst'\n\\item 'texture-mean'\n\\item 'texture-se'\n\\item 'texture-worst'\n\\end{enumerate*}\n",
            "text/plain": [
              " [1] \"area-mean\"               \"area-se\"                \n",
              " [3] \"area-worst\"              \"compactness-mean\"       \n",
              " [5] \"compactness-se\"          \"compactness-worst\"      \n",
              " [7] \"concave-points-mean\"     \"concave-points-se\"      \n",
              " [9] \"concave-points-worst\"    \"concavity-mean\"         \n",
              "[11] \"concavity-se\"            \"concavity-worst\"        \n",
              "[13] \"diagnosis\"               \"fractal-dimension-mean\" \n",
              "[15] \"fractal-dimension-se\"    \"fractal-dimension-worst\"\n",
              "[17] \"id\"                      \"perimeter-mean\"         \n",
              "[19] \"perimeter-se\"            \"perimeter-worst\"        \n",
              "[21] \"radius-mean\"             \"radius-se\"              \n",
              "[23] \"radius-worst\"            \"smoothness-mean\"        \n",
              "[25] \"smoothness-se\"           \"smoothness-worst\"       \n",
              "[27] \"symmetry-mean\"           \"symmetry-se\"            \n",
              "[29] \"symmetry-worst\"          \"texture-mean\"           \n",
              "[31] \"texture-se\"              \"texture-worst\"          "
            ]
          },
          "metadata": {}
        },
        {
          "output_type": "display_data",
          "data": {
            "text/html": [
              "<table class=\"dataframe\">\n",
              "<caption>A tibble: 6 × 32</caption>\n",
              "<thead>\n",
              "\t<tr><th scope=col>id</th><th scope=col>diagnosis</th><th scope=col>radius-mean</th><th scope=col>texture-mean</th><th scope=col>perimeter-mean</th><th scope=col>area-mean</th><th scope=col>smoothness-mean</th><th scope=col>compactness-mean</th><th scope=col>concavity-mean</th><th scope=col>concave-points-mean</th><th scope=col>⋯</th><th scope=col>radius-worst</th><th scope=col>texture-worst</th><th scope=col>perimeter-worst</th><th scope=col>area-worst</th><th scope=col>smoothness-worst</th><th scope=col>compactness-worst</th><th scope=col>concavity-worst</th><th scope=col>concave-points-worst</th><th scope=col>symmetry-worst</th><th scope=col>fractal-dimension-worst</th></tr>\n",
              "\t<tr><th scope=col>&lt;dbl&gt;</th><th scope=col>&lt;chr&gt;</th><th scope=col>&lt;dbl&gt;</th><th scope=col>&lt;dbl&gt;</th><th scope=col>&lt;dbl&gt;</th><th scope=col>&lt;dbl&gt;</th><th scope=col>&lt;dbl&gt;</th><th scope=col>&lt;dbl&gt;</th><th scope=col>&lt;dbl&gt;</th><th scope=col>&lt;dbl&gt;</th><th scope=col>⋯</th><th scope=col>&lt;dbl&gt;</th><th scope=col>&lt;dbl&gt;</th><th scope=col>&lt;dbl&gt;</th><th scope=col>&lt;dbl&gt;</th><th scope=col>&lt;dbl&gt;</th><th scope=col>&lt;dbl&gt;</th><th scope=col>&lt;dbl&gt;</th><th scope=col>&lt;dbl&gt;</th><th scope=col>&lt;dbl&gt;</th><th scope=col>&lt;dbl&gt;</th></tr>\n",
              "</thead>\n",
              "<tbody>\n",
              "\t<tr><td>  842302</td><td>M</td><td>17.99</td><td>10.38</td><td>122.80</td><td>1001.0</td><td>0.11840</td><td>0.27760</td><td>0.3001</td><td>0.14710</td><td>⋯</td><td>25.38</td><td>17.33</td><td>184.60</td><td>2019.0</td><td>0.1622</td><td>0.6656</td><td>0.7119</td><td>0.2654</td><td>0.4601</td><td>0.11890</td></tr>\n",
              "\t<tr><td>  842517</td><td>M</td><td>20.57</td><td>17.77</td><td>132.90</td><td>1326.0</td><td>0.08474</td><td>0.07864</td><td>0.0869</td><td>0.07017</td><td>⋯</td><td>24.99</td><td>23.41</td><td>158.80</td><td>1956.0</td><td>0.1238</td><td>0.1866</td><td>0.2416</td><td>0.1860</td><td>0.2750</td><td>0.08902</td></tr>\n",
              "\t<tr><td>84300903</td><td>M</td><td>19.69</td><td>21.25</td><td>130.00</td><td>1203.0</td><td>0.10960</td><td>0.15990</td><td>0.1974</td><td>0.12790</td><td>⋯</td><td>23.57</td><td>25.53</td><td>152.50</td><td>1709.0</td><td>0.1444</td><td>0.4245</td><td>0.4504</td><td>0.2430</td><td>0.3613</td><td>0.08758</td></tr>\n",
              "\t<tr><td>84348301</td><td>M</td><td>11.42</td><td>20.38</td><td> 77.58</td><td> 386.1</td><td>0.14250</td><td>0.28390</td><td>0.2414</td><td>0.10520</td><td>⋯</td><td>14.91</td><td>26.50</td><td> 98.87</td><td> 567.7</td><td>0.2098</td><td>0.8663</td><td>0.6869</td><td>0.2575</td><td>0.6638</td><td>0.17300</td></tr>\n",
              "\t<tr><td>84358402</td><td>M</td><td>20.29</td><td>14.34</td><td>135.10</td><td>1297.0</td><td>0.10030</td><td>0.13280</td><td>0.1980</td><td>0.10430</td><td>⋯</td><td>22.54</td><td>16.67</td><td>152.20</td><td>1575.0</td><td>0.1374</td><td>0.2050</td><td>0.4000</td><td>0.1625</td><td>0.2364</td><td>0.07678</td></tr>\n",
              "\t<tr><td>  843786</td><td>M</td><td>12.45</td><td>15.70</td><td> 82.57</td><td> 477.1</td><td>0.12780</td><td>0.17000</td><td>0.1578</td><td>0.08089</td><td>⋯</td><td>15.47</td><td>23.75</td><td>103.40</td><td> 741.6</td><td>0.1791</td><td>0.5249</td><td>0.5355</td><td>0.1741</td><td>0.3985</td><td>0.12440</td></tr>\n",
              "</tbody>\n",
              "</table>\n"
            ],
            "text/markdown": "\nA tibble: 6 × 32\n\n| id &lt;dbl&gt; | diagnosis &lt;chr&gt; | radius-mean &lt;dbl&gt; | texture-mean &lt;dbl&gt; | perimeter-mean &lt;dbl&gt; | area-mean &lt;dbl&gt; | smoothness-mean &lt;dbl&gt; | compactness-mean &lt;dbl&gt; | concavity-mean &lt;dbl&gt; | concave-points-mean &lt;dbl&gt; | ⋯ ⋯ | radius-worst &lt;dbl&gt; | texture-worst &lt;dbl&gt; | perimeter-worst &lt;dbl&gt; | area-worst &lt;dbl&gt; | smoothness-worst &lt;dbl&gt; | compactness-worst &lt;dbl&gt; | concavity-worst &lt;dbl&gt; | concave-points-worst &lt;dbl&gt; | symmetry-worst &lt;dbl&gt; | fractal-dimension-worst &lt;dbl&gt; |\n|---|---|---|---|---|---|---|---|---|---|---|---|---|---|---|---|---|---|---|---|---|\n|   842302 | M | 17.99 | 10.38 | 122.80 | 1001.0 | 0.11840 | 0.27760 | 0.3001 | 0.14710 | ⋯ | 25.38 | 17.33 | 184.60 | 2019.0 | 0.1622 | 0.6656 | 0.7119 | 0.2654 | 0.4601 | 0.11890 |\n|   842517 | M | 20.57 | 17.77 | 132.90 | 1326.0 | 0.08474 | 0.07864 | 0.0869 | 0.07017 | ⋯ | 24.99 | 23.41 | 158.80 | 1956.0 | 0.1238 | 0.1866 | 0.2416 | 0.1860 | 0.2750 | 0.08902 |\n| 84300903 | M | 19.69 | 21.25 | 130.00 | 1203.0 | 0.10960 | 0.15990 | 0.1974 | 0.12790 | ⋯ | 23.57 | 25.53 | 152.50 | 1709.0 | 0.1444 | 0.4245 | 0.4504 | 0.2430 | 0.3613 | 0.08758 |\n| 84348301 | M | 11.42 | 20.38 |  77.58 |  386.1 | 0.14250 | 0.28390 | 0.2414 | 0.10520 | ⋯ | 14.91 | 26.50 |  98.87 |  567.7 | 0.2098 | 0.8663 | 0.6869 | 0.2575 | 0.6638 | 0.17300 |\n| 84358402 | M | 20.29 | 14.34 | 135.10 | 1297.0 | 0.10030 | 0.13280 | 0.1980 | 0.10430 | ⋯ | 22.54 | 16.67 | 152.20 | 1575.0 | 0.1374 | 0.2050 | 0.4000 | 0.1625 | 0.2364 | 0.07678 |\n|   843786 | M | 12.45 | 15.70 |  82.57 |  477.1 | 0.12780 | 0.17000 | 0.1578 | 0.08089 | ⋯ | 15.47 | 23.75 | 103.40 |  741.6 | 0.1791 | 0.5249 | 0.5355 | 0.1741 | 0.3985 | 0.12440 |\n\n",
            "text/latex": "A tibble: 6 × 32\n\\begin{tabular}{lllllllllllllllllllll}\n id & diagnosis & radius-mean & texture-mean & perimeter-mean & area-mean & smoothness-mean & compactness-mean & concavity-mean & concave-points-mean & ⋯ & radius-worst & texture-worst & perimeter-worst & area-worst & smoothness-worst & compactness-worst & concavity-worst & concave-points-worst & symmetry-worst & fractal-dimension-worst\\\\\n <dbl> & <chr> & <dbl> & <dbl> & <dbl> & <dbl> & <dbl> & <dbl> & <dbl> & <dbl> & ⋯ & <dbl> & <dbl> & <dbl> & <dbl> & <dbl> & <dbl> & <dbl> & <dbl> & <dbl> & <dbl>\\\\\n\\hline\n\t   842302 & M & 17.99 & 10.38 & 122.80 & 1001.0 & 0.11840 & 0.27760 & 0.3001 & 0.14710 & ⋯ & 25.38 & 17.33 & 184.60 & 2019.0 & 0.1622 & 0.6656 & 0.7119 & 0.2654 & 0.4601 & 0.11890\\\\\n\t   842517 & M & 20.57 & 17.77 & 132.90 & 1326.0 & 0.08474 & 0.07864 & 0.0869 & 0.07017 & ⋯ & 24.99 & 23.41 & 158.80 & 1956.0 & 0.1238 & 0.1866 & 0.2416 & 0.1860 & 0.2750 & 0.08902\\\\\n\t 84300903 & M & 19.69 & 21.25 & 130.00 & 1203.0 & 0.10960 & 0.15990 & 0.1974 & 0.12790 & ⋯ & 23.57 & 25.53 & 152.50 & 1709.0 & 0.1444 & 0.4245 & 0.4504 & 0.2430 & 0.3613 & 0.08758\\\\\n\t 84348301 & M & 11.42 & 20.38 &  77.58 &  386.1 & 0.14250 & 0.28390 & 0.2414 & 0.10520 & ⋯ & 14.91 & 26.50 &  98.87 &  567.7 & 0.2098 & 0.8663 & 0.6869 & 0.2575 & 0.6638 & 0.17300\\\\\n\t 84358402 & M & 20.29 & 14.34 & 135.10 & 1297.0 & 0.10030 & 0.13280 & 0.1980 & 0.10430 & ⋯ & 22.54 & 16.67 & 152.20 & 1575.0 & 0.1374 & 0.2050 & 0.4000 & 0.1625 & 0.2364 & 0.07678\\\\\n\t   843786 & M & 12.45 & 15.70 &  82.57 &  477.1 & 0.12780 & 0.17000 & 0.1578 & 0.08089 & ⋯ & 15.47 & 23.75 & 103.40 &  741.6 & 0.1791 & 0.5249 & 0.5355 & 0.1741 & 0.3985 & 0.12440\\\\\n\\end{tabular}\n",
            "text/plain": [
              "  id       diagnosis radius-mean texture-mean perimeter-mean area-mean\n",
              "1   842302 M         17.99       10.38        122.80         1001.0   \n",
              "2   842517 M         20.57       17.77        132.90         1326.0   \n",
              "3 84300903 M         19.69       21.25        130.00         1203.0   \n",
              "4 84348301 M         11.42       20.38         77.58          386.1   \n",
              "5 84358402 M         20.29       14.34        135.10         1297.0   \n",
              "6   843786 M         12.45       15.70         82.57          477.1   \n",
              "  smoothness-mean compactness-mean concavity-mean concave-points-mean ⋯\n",
              "1 0.11840         0.27760          0.3001         0.14710             ⋯\n",
              "2 0.08474         0.07864          0.0869         0.07017             ⋯\n",
              "3 0.10960         0.15990          0.1974         0.12790             ⋯\n",
              "4 0.14250         0.28390          0.2414         0.10520             ⋯\n",
              "5 0.10030         0.13280          0.1980         0.10430             ⋯\n",
              "6 0.12780         0.17000          0.1578         0.08089             ⋯\n",
              "  radius-worst texture-worst perimeter-worst area-worst smoothness-worst\n",
              "1 25.38        17.33         184.60          2019.0     0.1622          \n",
              "2 24.99        23.41         158.80          1956.0     0.1238          \n",
              "3 23.57        25.53         152.50          1709.0     0.1444          \n",
              "4 14.91        26.50          98.87           567.7     0.2098          \n",
              "5 22.54        16.67         152.20          1575.0     0.1374          \n",
              "6 15.47        23.75         103.40           741.6     0.1791          \n",
              "  compactness-worst concavity-worst concave-points-worst symmetry-worst\n",
              "1 0.6656            0.7119          0.2654               0.4601        \n",
              "2 0.1866            0.2416          0.1860               0.2750        \n",
              "3 0.4245            0.4504          0.2430               0.3613        \n",
              "4 0.8663            0.6869          0.2575               0.6638        \n",
              "5 0.2050            0.4000          0.1625               0.2364        \n",
              "6 0.5249            0.5355          0.1741               0.3985        \n",
              "  fractal-dimension-worst\n",
              "1 0.11890                \n",
              "2 0.08902                \n",
              "3 0.08758                \n",
              "4 0.17300                \n",
              "5 0.07678                \n",
              "6 0.12440                "
            ]
          },
          "metadata": {}
        }
      ]
    },
    {
      "cell_type": "markdown",
      "source": [
        "transformando a coluna \"diagnóstico\" em um factor, que é um tipo de dado usado para representar variáveis categóricas. Factors armazenam esses valores como números inteiros com rótulos associados, chamados de níveis."
      ],
      "metadata": {
        "id": "DyViXhvoX8jy"
      }
    },
    {
      "cell_type": "code",
      "source": [
        "x$diagnosis <- factor(x$diagnosis, levels = c(\"B\",\"M\"))\n",
        "levels(x$diagnosis)\n",
        "tail(x)"
      ],
      "metadata": {
        "colab": {
          "base_uri": "https://localhost:8080/",
          "height": 358
        },
        "id": "QmLXFoHf5nYt",
        "outputId": "7f480246-57eb-43be-a529-771b2160fc04"
      },
      "execution_count": null,
      "outputs": [
        {
          "output_type": "display_data",
          "data": {
            "text/html": [
              "<style>\n",
              ".list-inline {list-style: none; margin:0; padding: 0}\n",
              ".list-inline>li {display: inline-block}\n",
              ".list-inline>li:not(:last-child)::after {content: \"\\00b7\"; padding: 0 .5ex}\n",
              "</style>\n",
              "<ol class=list-inline><li>'B'</li><li>'M'</li></ol>\n"
            ],
            "text/markdown": "1. 'B'\n2. 'M'\n\n\n",
            "text/latex": "\\begin{enumerate*}\n\\item 'B'\n\\item 'M'\n\\end{enumerate*}\n",
            "text/plain": [
              "[1] \"B\" \"M\""
            ]
          },
          "metadata": {}
        },
        {
          "output_type": "display_data",
          "data": {
            "text/html": [
              "<table class=\"dataframe\">\n",
              "<caption>A tibble: 6 × 32</caption>\n",
              "<thead>\n",
              "\t<tr><th scope=col>id</th><th scope=col>diagnosis</th><th scope=col>radius-mean</th><th scope=col>texture-mean</th><th scope=col>perimeter-mean</th><th scope=col>area-mean</th><th scope=col>smoothness-mean</th><th scope=col>compactness-mean</th><th scope=col>concavity-mean</th><th scope=col>concave-points-mean</th><th scope=col>⋯</th><th scope=col>radius-worst</th><th scope=col>texture-worst</th><th scope=col>perimeter-worst</th><th scope=col>area-worst</th><th scope=col>smoothness-worst</th><th scope=col>compactness-worst</th><th scope=col>concavity-worst</th><th scope=col>concave-points-worst</th><th scope=col>symmetry-worst</th><th scope=col>fractal-dimension-worst</th></tr>\n",
              "\t<tr><th scope=col>&lt;dbl&gt;</th><th scope=col>&lt;fct&gt;</th><th scope=col>&lt;dbl&gt;</th><th scope=col>&lt;dbl&gt;</th><th scope=col>&lt;dbl&gt;</th><th scope=col>&lt;dbl&gt;</th><th scope=col>&lt;dbl&gt;</th><th scope=col>&lt;dbl&gt;</th><th scope=col>&lt;dbl&gt;</th><th scope=col>&lt;dbl&gt;</th><th scope=col>⋯</th><th scope=col>&lt;dbl&gt;</th><th scope=col>&lt;dbl&gt;</th><th scope=col>&lt;dbl&gt;</th><th scope=col>&lt;dbl&gt;</th><th scope=col>&lt;dbl&gt;</th><th scope=col>&lt;dbl&gt;</th><th scope=col>&lt;dbl&gt;</th><th scope=col>&lt;dbl&gt;</th><th scope=col>&lt;dbl&gt;</th><th scope=col>&lt;dbl&gt;</th></tr>\n",
              "</thead>\n",
              "<tbody>\n",
              "\t<tr><td>926125</td><td>M</td><td>20.92</td><td>25.09</td><td>143.00</td><td>1347.0</td><td>0.10990</td><td>0.22360</td><td>0.31740</td><td>0.14740</td><td>⋯</td><td>24.290</td><td>29.41</td><td>179.10</td><td>1819.0</td><td>0.14070</td><td>0.41860</td><td>0.6599</td><td>0.2542</td><td>0.2929</td><td>0.09873</td></tr>\n",
              "\t<tr><td>926424</td><td>M</td><td>21.56</td><td>22.39</td><td>142.00</td><td>1479.0</td><td>0.11100</td><td>0.11590</td><td>0.24390</td><td>0.13890</td><td>⋯</td><td>25.450</td><td>26.40</td><td>166.10</td><td>2027.0</td><td>0.14100</td><td>0.21130</td><td>0.4107</td><td>0.2216</td><td>0.2060</td><td>0.07115</td></tr>\n",
              "\t<tr><td>926682</td><td>M</td><td>20.13</td><td>28.25</td><td>131.20</td><td>1261.0</td><td>0.09780</td><td>0.10340</td><td>0.14400</td><td>0.09791</td><td>⋯</td><td>23.690</td><td>38.25</td><td>155.00</td><td>1731.0</td><td>0.11660</td><td>0.19220</td><td>0.3215</td><td>0.1628</td><td>0.2572</td><td>0.06637</td></tr>\n",
              "\t<tr><td>926954</td><td>M</td><td>16.60</td><td>28.08</td><td>108.30</td><td> 858.1</td><td>0.08455</td><td>0.10230</td><td>0.09251</td><td>0.05302</td><td>⋯</td><td>18.980</td><td>34.12</td><td>126.70</td><td>1124.0</td><td>0.11390</td><td>0.30940</td><td>0.3403</td><td>0.1418</td><td>0.2218</td><td>0.07820</td></tr>\n",
              "\t<tr><td>927241</td><td>M</td><td>20.60</td><td>29.33</td><td>140.10</td><td>1265.0</td><td>0.11780</td><td>0.27700</td><td>0.35140</td><td>0.15200</td><td>⋯</td><td>25.740</td><td>39.42</td><td>184.60</td><td>1821.0</td><td>0.16500</td><td>0.86810</td><td>0.9387</td><td>0.2650</td><td>0.4087</td><td>0.12400</td></tr>\n",
              "\t<tr><td> 92751</td><td>B</td><td> 7.76</td><td>24.54</td><td> 47.92</td><td> 181.0</td><td>0.05263</td><td>0.04362</td><td>0.00000</td><td>0.00000</td><td>⋯</td><td> 9.456</td><td>30.37</td><td> 59.16</td><td> 268.6</td><td>0.08996</td><td>0.06444</td><td>0.0000</td><td>0.0000</td><td>0.2871</td><td>0.07039</td></tr>\n",
              "</tbody>\n",
              "</table>\n"
            ],
            "text/markdown": "\nA tibble: 6 × 32\n\n| id &lt;dbl&gt; | diagnosis &lt;fct&gt; | radius-mean &lt;dbl&gt; | texture-mean &lt;dbl&gt; | perimeter-mean &lt;dbl&gt; | area-mean &lt;dbl&gt; | smoothness-mean &lt;dbl&gt; | compactness-mean &lt;dbl&gt; | concavity-mean &lt;dbl&gt; | concave-points-mean &lt;dbl&gt; | ⋯ ⋯ | radius-worst &lt;dbl&gt; | texture-worst &lt;dbl&gt; | perimeter-worst &lt;dbl&gt; | area-worst &lt;dbl&gt; | smoothness-worst &lt;dbl&gt; | compactness-worst &lt;dbl&gt; | concavity-worst &lt;dbl&gt; | concave-points-worst &lt;dbl&gt; | symmetry-worst &lt;dbl&gt; | fractal-dimension-worst &lt;dbl&gt; |\n|---|---|---|---|---|---|---|---|---|---|---|---|---|---|---|---|---|---|---|---|---|\n| 926125 | M | 20.92 | 25.09 | 143.00 | 1347.0 | 0.10990 | 0.22360 | 0.31740 | 0.14740 | ⋯ | 24.290 | 29.41 | 179.10 | 1819.0 | 0.14070 | 0.41860 | 0.6599 | 0.2542 | 0.2929 | 0.09873 |\n| 926424 | M | 21.56 | 22.39 | 142.00 | 1479.0 | 0.11100 | 0.11590 | 0.24390 | 0.13890 | ⋯ | 25.450 | 26.40 | 166.10 | 2027.0 | 0.14100 | 0.21130 | 0.4107 | 0.2216 | 0.2060 | 0.07115 |\n| 926682 | M | 20.13 | 28.25 | 131.20 | 1261.0 | 0.09780 | 0.10340 | 0.14400 | 0.09791 | ⋯ | 23.690 | 38.25 | 155.00 | 1731.0 | 0.11660 | 0.19220 | 0.3215 | 0.1628 | 0.2572 | 0.06637 |\n| 926954 | M | 16.60 | 28.08 | 108.30 |  858.1 | 0.08455 | 0.10230 | 0.09251 | 0.05302 | ⋯ | 18.980 | 34.12 | 126.70 | 1124.0 | 0.11390 | 0.30940 | 0.3403 | 0.1418 | 0.2218 | 0.07820 |\n| 927241 | M | 20.60 | 29.33 | 140.10 | 1265.0 | 0.11780 | 0.27700 | 0.35140 | 0.15200 | ⋯ | 25.740 | 39.42 | 184.60 | 1821.0 | 0.16500 | 0.86810 | 0.9387 | 0.2650 | 0.4087 | 0.12400 |\n|  92751 | B |  7.76 | 24.54 |  47.92 |  181.0 | 0.05263 | 0.04362 | 0.00000 | 0.00000 | ⋯ |  9.456 | 30.37 |  59.16 |  268.6 | 0.08996 | 0.06444 | 0.0000 | 0.0000 | 0.2871 | 0.07039 |\n\n",
            "text/latex": "A tibble: 6 × 32\n\\begin{tabular}{lllllllllllllllllllll}\n id & diagnosis & radius-mean & texture-mean & perimeter-mean & area-mean & smoothness-mean & compactness-mean & concavity-mean & concave-points-mean & ⋯ & radius-worst & texture-worst & perimeter-worst & area-worst & smoothness-worst & compactness-worst & concavity-worst & concave-points-worst & symmetry-worst & fractal-dimension-worst\\\\\n <dbl> & <fct> & <dbl> & <dbl> & <dbl> & <dbl> & <dbl> & <dbl> & <dbl> & <dbl> & ⋯ & <dbl> & <dbl> & <dbl> & <dbl> & <dbl> & <dbl> & <dbl> & <dbl> & <dbl> & <dbl>\\\\\n\\hline\n\t 926125 & M & 20.92 & 25.09 & 143.00 & 1347.0 & 0.10990 & 0.22360 & 0.31740 & 0.14740 & ⋯ & 24.290 & 29.41 & 179.10 & 1819.0 & 0.14070 & 0.41860 & 0.6599 & 0.2542 & 0.2929 & 0.09873\\\\\n\t 926424 & M & 21.56 & 22.39 & 142.00 & 1479.0 & 0.11100 & 0.11590 & 0.24390 & 0.13890 & ⋯ & 25.450 & 26.40 & 166.10 & 2027.0 & 0.14100 & 0.21130 & 0.4107 & 0.2216 & 0.2060 & 0.07115\\\\\n\t 926682 & M & 20.13 & 28.25 & 131.20 & 1261.0 & 0.09780 & 0.10340 & 0.14400 & 0.09791 & ⋯ & 23.690 & 38.25 & 155.00 & 1731.0 & 0.11660 & 0.19220 & 0.3215 & 0.1628 & 0.2572 & 0.06637\\\\\n\t 926954 & M & 16.60 & 28.08 & 108.30 &  858.1 & 0.08455 & 0.10230 & 0.09251 & 0.05302 & ⋯ & 18.980 & 34.12 & 126.70 & 1124.0 & 0.11390 & 0.30940 & 0.3403 & 0.1418 & 0.2218 & 0.07820\\\\\n\t 927241 & M & 20.60 & 29.33 & 140.10 & 1265.0 & 0.11780 & 0.27700 & 0.35140 & 0.15200 & ⋯ & 25.740 & 39.42 & 184.60 & 1821.0 & 0.16500 & 0.86810 & 0.9387 & 0.2650 & 0.4087 & 0.12400\\\\\n\t  92751 & B &  7.76 & 24.54 &  47.92 &  181.0 & 0.05263 & 0.04362 & 0.00000 & 0.00000 & ⋯ &  9.456 & 30.37 &  59.16 &  268.6 & 0.08996 & 0.06444 & 0.0000 & 0.0000 & 0.2871 & 0.07039\\\\\n\\end{tabular}\n",
            "text/plain": [
              "  id     diagnosis radius-mean texture-mean perimeter-mean area-mean\n",
              "1 926125 M         20.92       25.09        143.00         1347.0   \n",
              "2 926424 M         21.56       22.39        142.00         1479.0   \n",
              "3 926682 M         20.13       28.25        131.20         1261.0   \n",
              "4 926954 M         16.60       28.08        108.30          858.1   \n",
              "5 927241 M         20.60       29.33        140.10         1265.0   \n",
              "6  92751 B          7.76       24.54         47.92          181.0   \n",
              "  smoothness-mean compactness-mean concavity-mean concave-points-mean ⋯\n",
              "1 0.10990         0.22360          0.31740        0.14740             ⋯\n",
              "2 0.11100         0.11590          0.24390        0.13890             ⋯\n",
              "3 0.09780         0.10340          0.14400        0.09791             ⋯\n",
              "4 0.08455         0.10230          0.09251        0.05302             ⋯\n",
              "5 0.11780         0.27700          0.35140        0.15200             ⋯\n",
              "6 0.05263         0.04362          0.00000        0.00000             ⋯\n",
              "  radius-worst texture-worst perimeter-worst area-worst smoothness-worst\n",
              "1 24.290       29.41         179.10          1819.0     0.14070         \n",
              "2 25.450       26.40         166.10          2027.0     0.14100         \n",
              "3 23.690       38.25         155.00          1731.0     0.11660         \n",
              "4 18.980       34.12         126.70          1124.0     0.11390         \n",
              "5 25.740       39.42         184.60          1821.0     0.16500         \n",
              "6  9.456       30.37          59.16           268.6     0.08996         \n",
              "  compactness-worst concavity-worst concave-points-worst symmetry-worst\n",
              "1 0.41860           0.6599          0.2542               0.2929        \n",
              "2 0.21130           0.4107          0.2216               0.2060        \n",
              "3 0.19220           0.3215          0.1628               0.2572        \n",
              "4 0.30940           0.3403          0.1418               0.2218        \n",
              "5 0.86810           0.9387          0.2650               0.4087        \n",
              "6 0.06444           0.0000          0.0000               0.2871        \n",
              "  fractal-dimension-worst\n",
              "1 0.09873                \n",
              "2 0.07115                \n",
              "3 0.06637                \n",
              "4 0.07820                \n",
              "5 0.12400                \n",
              "6 0.07039                "
            ]
          },
          "metadata": {}
        }
      ]
    },
    {
      "cell_type": "markdown",
      "source": [
        "summary() é uma função genérica que produz um resumo estatístico de diferentes tipos de objetos, como vetores numéricos e fatores. Para variáveis numéricas, ele exibe estatísticas como mínimo, máximo, mediana, média e quartis, enquanto para variáveis qualitativas (fatores), mostra os níveis e a frequência de cada um"
      ],
      "metadata": {
        "id": "gS_yDXu0Y97U"
      }
    },
    {
      "cell_type": "code",
      "source": [
        "summary(x$diagnosis)"
      ],
      "metadata": {
        "colab": {
          "base_uri": "https://localhost:8080/",
          "height": 34
        },
        "id": "GocQpXlA9A0V",
        "outputId": "7a784a91-94e4-42c9-d48d-0e9a469f6cbe"
      },
      "execution_count": null,
      "outputs": [
        {
          "output_type": "display_data",
          "data": {
            "text/html": [
              "<style>\n",
              ".dl-inline {width: auto; margin:0; padding: 0}\n",
              ".dl-inline>dt, .dl-inline>dd {float: none; width: auto; display: inline-block}\n",
              ".dl-inline>dt::after {content: \":\\0020\"; padding-right: .5ex}\n",
              ".dl-inline>dt:not(:first-of-type) {padding-left: .5ex}\n",
              "</style><dl class=dl-inline><dt>B</dt><dd>357</dd><dt>M</dt><dd>212</dd></dl>\n"
            ],
            "text/markdown": "B\n:   357M\n:   212\n\n",
            "text/latex": "\\begin{description*}\n\\item[B] 357\n\\item[M] 212\n\\end{description*}\n",
            "text/plain": [
              "  B   M \n",
              "357 212 "
            ]
          },
          "metadata": {}
        }
      ]
    },
    {
      "cell_type": "markdown",
      "source": [
        "str() é uma função de diagnóstico que exibe a estrutura interna de um objeto R, como um dataframe, lista, vetor ou matriz. Ele fornece informações importantes como o tipo de objeto, o número de observações e variáveis, os nomes das colunas, os tipos de dados de cada coluna (numérico, caractere, fator, etc.) e alguns valores de exemplo por variáve"
      ],
      "metadata": {
        "id": "k4h-BkGIC5D9"
      }
    },
    {
      "cell_type": "code",
      "source": [
        "str(x)\n",
        "\n",
        "x <- x[-1] #tirando coluna \"id\"\n",
        "head(x)"
      ],
      "metadata": {
        "colab": {
          "base_uri": "https://localhost:8080/",
          "height": 1000
        },
        "id": "u6pcxAeLAHyH",
        "outputId": "092984cb-dced-4b26-cae8-5113c8eb8624"
      },
      "execution_count": null,
      "outputs": [
        {
          "output_type": "stream",
          "name": "stdout",
          "text": [
            "spc_tbl_ [569 × 32] (S3: spec_tbl_df/tbl_df/tbl/data.frame)\n",
            " $ id                     : num [1:569] 842302 842517 84300903 84348301 84358402 ...\n",
            " $ diagnosis              : Factor w/ 2 levels \"B\",\"M\": 2 2 2 2 2 2 2 2 2 2 ...\n",
            " $ radius-mean            : num [1:569] 18 20.6 19.7 11.4 20.3 ...\n",
            " $ texture-mean           : num [1:569] 10.4 17.8 21.2 20.4 14.3 ...\n",
            " $ perimeter-mean         : num [1:569] 122.8 132.9 130 77.6 135.1 ...\n",
            " $ area-mean              : num [1:569] 1001 1326 1203 386 1297 ...\n",
            " $ smoothness-mean        : num [1:569] 0.1184 0.0847 0.1096 0.1425 0.1003 ...\n",
            " $ compactness-mean       : num [1:569] 0.2776 0.0786 0.1599 0.2839 0.1328 ...\n",
            " $ concavity-mean         : num [1:569] 0.3001 0.0869 0.1974 0.2414 0.198 ...\n",
            " $ concave-points-mean    : num [1:569] 0.1471 0.0702 0.1279 0.1052 0.1043 ...\n",
            " $ symmetry-mean          : num [1:569] 0.242 0.181 0.207 0.26 0.181 ...\n",
            " $ fractal-dimension-mean : num [1:569] 0.0787 0.0567 0.06 0.0974 0.0588 ...\n",
            " $ radius-se              : num [1:569] 1.095 0.543 0.746 0.496 0.757 ...\n",
            " $ texture-se             : num [1:569] 0.905 0.734 0.787 1.156 0.781 ...\n",
            " $ perimeter-se           : num [1:569] 8.59 3.4 4.58 3.44 5.44 ...\n",
            " $ area-se                : num [1:569] 153.4 74.1 94 27.2 94.4 ...\n",
            " $ smoothness-se          : num [1:569] 0.0064 0.00522 0.00615 0.00911 0.01149 ...\n",
            " $ compactness-se         : num [1:569] 0.049 0.0131 0.0401 0.0746 0.0246 ...\n",
            " $ concavity-se           : num [1:569] 0.0537 0.0186 0.0383 0.0566 0.0569 ...\n",
            " $ concave-points-se      : num [1:569] 0.0159 0.0134 0.0206 0.0187 0.0188 ...\n",
            " $ symmetry-se            : num [1:569] 0.03 0.0139 0.0225 0.0596 0.0176 ...\n",
            " $ fractal-dimension-se   : num [1:569] 0.00619 0.00353 0.00457 0.00921 0.00511 ...\n",
            " $ radius-worst           : num [1:569] 25.4 25 23.6 14.9 22.5 ...\n",
            " $ texture-worst          : num [1:569] 17.3 23.4 25.5 26.5 16.7 ...\n",
            " $ perimeter-worst        : num [1:569] 184.6 158.8 152.5 98.9 152.2 ...\n",
            " $ area-worst             : num [1:569] 2019 1956 1709 568 1575 ...\n",
            " $ smoothness-worst       : num [1:569] 0.162 0.124 0.144 0.21 0.137 ...\n",
            " $ compactness-worst      : num [1:569] 0.666 0.187 0.424 0.866 0.205 ...\n",
            " $ concavity-worst        : num [1:569] 0.712 0.242 0.45 0.687 0.4 ...\n",
            " $ concave-points-worst   : num [1:569] 0.265 0.186 0.243 0.258 0.163 ...\n",
            " $ symmetry-worst         : num [1:569] 0.46 0.275 0.361 0.664 0.236 ...\n",
            " $ fractal-dimension-worst: num [1:569] 0.1189 0.089 0.0876 0.173 0.0768 ...\n",
            " - attr(*, \"spec\")=\n",
            "  .. cols(\n",
            "  ..   id = \u001b[32mcol_double()\u001b[39m,\n",
            "  ..   diagnosis = \u001b[31mcol_character()\u001b[39m,\n",
            "  ..   `radius-mean` = \u001b[32mcol_double()\u001b[39m,\n",
            "  ..   `texture-mean` = \u001b[32mcol_double()\u001b[39m,\n",
            "  ..   `perimeter-mean` = \u001b[32mcol_double()\u001b[39m,\n",
            "  ..   `area-mean` = \u001b[32mcol_double()\u001b[39m,\n",
            "  ..   `smoothness-mean` = \u001b[32mcol_double()\u001b[39m,\n",
            "  ..   `compactness-mean` = \u001b[32mcol_double()\u001b[39m,\n",
            "  ..   `concavity-mean` = \u001b[32mcol_double()\u001b[39m,\n",
            "  ..   `concave-points-mean` = \u001b[32mcol_double()\u001b[39m,\n",
            "  ..   `symmetry-mean` = \u001b[32mcol_double()\u001b[39m,\n",
            "  ..   `fractal-dimension-mean` = \u001b[32mcol_double()\u001b[39m,\n",
            "  ..   `radius-se` = \u001b[32mcol_double()\u001b[39m,\n",
            "  ..   `texture-se` = \u001b[32mcol_double()\u001b[39m,\n",
            "  ..   `perimeter-se` = \u001b[32mcol_double()\u001b[39m,\n",
            "  ..   `area-se` = \u001b[32mcol_double()\u001b[39m,\n",
            "  ..   `smoothness-se` = \u001b[32mcol_double()\u001b[39m,\n",
            "  ..   `compactness-se` = \u001b[32mcol_double()\u001b[39m,\n",
            "  ..   `concavity-se` = \u001b[32mcol_double()\u001b[39m,\n",
            "  ..   `concave-points-se` = \u001b[32mcol_double()\u001b[39m,\n",
            "  ..   `symmetry-se` = \u001b[32mcol_double()\u001b[39m,\n",
            "  ..   `fractal-dimension-se` = \u001b[32mcol_double()\u001b[39m,\n",
            "  ..   `radius-worst` = \u001b[32mcol_double()\u001b[39m,\n",
            "  ..   `texture-worst` = \u001b[32mcol_double()\u001b[39m,\n",
            "  ..   `perimeter-worst` = \u001b[32mcol_double()\u001b[39m,\n",
            "  ..   `area-worst` = \u001b[32mcol_double()\u001b[39m,\n",
            "  ..   `smoothness-worst` = \u001b[32mcol_double()\u001b[39m,\n",
            "  ..   `compactness-worst` = \u001b[32mcol_double()\u001b[39m,\n",
            "  ..   `concavity-worst` = \u001b[32mcol_double()\u001b[39m,\n",
            "  ..   `concave-points-worst` = \u001b[32mcol_double()\u001b[39m,\n",
            "  ..   `symmetry-worst` = \u001b[32mcol_double()\u001b[39m,\n",
            "  ..   `fractal-dimension-worst` = \u001b[32mcol_double()\u001b[39m\n",
            "  .. )\n",
            " - attr(*, \"problems\")=<externalptr> \n"
          ]
        },
        {
          "output_type": "display_data",
          "data": {
            "text/html": [
              "<table class=\"dataframe\">\n",
              "<caption>A tibble: 6 × 31</caption>\n",
              "<thead>\n",
              "\t<tr><th scope=col>diagnosis</th><th scope=col>radius-mean</th><th scope=col>texture-mean</th><th scope=col>perimeter-mean</th><th scope=col>area-mean</th><th scope=col>smoothness-mean</th><th scope=col>compactness-mean</th><th scope=col>concavity-mean</th><th scope=col>concave-points-mean</th><th scope=col>symmetry-mean</th><th scope=col>⋯</th><th scope=col>radius-worst</th><th scope=col>texture-worst</th><th scope=col>perimeter-worst</th><th scope=col>area-worst</th><th scope=col>smoothness-worst</th><th scope=col>compactness-worst</th><th scope=col>concavity-worst</th><th scope=col>concave-points-worst</th><th scope=col>symmetry-worst</th><th scope=col>fractal-dimension-worst</th></tr>\n",
              "\t<tr><th scope=col>&lt;fct&gt;</th><th scope=col>&lt;dbl&gt;</th><th scope=col>&lt;dbl&gt;</th><th scope=col>&lt;dbl&gt;</th><th scope=col>&lt;dbl&gt;</th><th scope=col>&lt;dbl&gt;</th><th scope=col>&lt;dbl&gt;</th><th scope=col>&lt;dbl&gt;</th><th scope=col>&lt;dbl&gt;</th><th scope=col>&lt;dbl&gt;</th><th scope=col>⋯</th><th scope=col>&lt;dbl&gt;</th><th scope=col>&lt;dbl&gt;</th><th scope=col>&lt;dbl&gt;</th><th scope=col>&lt;dbl&gt;</th><th scope=col>&lt;dbl&gt;</th><th scope=col>&lt;dbl&gt;</th><th scope=col>&lt;dbl&gt;</th><th scope=col>&lt;dbl&gt;</th><th scope=col>&lt;dbl&gt;</th><th scope=col>&lt;dbl&gt;</th></tr>\n",
              "</thead>\n",
              "<tbody>\n",
              "\t<tr><td>M</td><td>17.99</td><td>10.38</td><td>122.80</td><td>1001.0</td><td>0.11840</td><td>0.27760</td><td>0.3001</td><td>0.14710</td><td>0.2419</td><td>⋯</td><td>25.38</td><td>17.33</td><td>184.60</td><td>2019.0</td><td>0.1622</td><td>0.6656</td><td>0.7119</td><td>0.2654</td><td>0.4601</td><td>0.11890</td></tr>\n",
              "\t<tr><td>M</td><td>20.57</td><td>17.77</td><td>132.90</td><td>1326.0</td><td>0.08474</td><td>0.07864</td><td>0.0869</td><td>0.07017</td><td>0.1812</td><td>⋯</td><td>24.99</td><td>23.41</td><td>158.80</td><td>1956.0</td><td>0.1238</td><td>0.1866</td><td>0.2416</td><td>0.1860</td><td>0.2750</td><td>0.08902</td></tr>\n",
              "\t<tr><td>M</td><td>19.69</td><td>21.25</td><td>130.00</td><td>1203.0</td><td>0.10960</td><td>0.15990</td><td>0.1974</td><td>0.12790</td><td>0.2069</td><td>⋯</td><td>23.57</td><td>25.53</td><td>152.50</td><td>1709.0</td><td>0.1444</td><td>0.4245</td><td>0.4504</td><td>0.2430</td><td>0.3613</td><td>0.08758</td></tr>\n",
              "\t<tr><td>M</td><td>11.42</td><td>20.38</td><td> 77.58</td><td> 386.1</td><td>0.14250</td><td>0.28390</td><td>0.2414</td><td>0.10520</td><td>0.2597</td><td>⋯</td><td>14.91</td><td>26.50</td><td> 98.87</td><td> 567.7</td><td>0.2098</td><td>0.8663</td><td>0.6869</td><td>0.2575</td><td>0.6638</td><td>0.17300</td></tr>\n",
              "\t<tr><td>M</td><td>20.29</td><td>14.34</td><td>135.10</td><td>1297.0</td><td>0.10030</td><td>0.13280</td><td>0.1980</td><td>0.10430</td><td>0.1809</td><td>⋯</td><td>22.54</td><td>16.67</td><td>152.20</td><td>1575.0</td><td>0.1374</td><td>0.2050</td><td>0.4000</td><td>0.1625</td><td>0.2364</td><td>0.07678</td></tr>\n",
              "\t<tr><td>M</td><td>12.45</td><td>15.70</td><td> 82.57</td><td> 477.1</td><td>0.12780</td><td>0.17000</td><td>0.1578</td><td>0.08089</td><td>0.2087</td><td>⋯</td><td>15.47</td><td>23.75</td><td>103.40</td><td> 741.6</td><td>0.1791</td><td>0.5249</td><td>0.5355</td><td>0.1741</td><td>0.3985</td><td>0.12440</td></tr>\n",
              "</tbody>\n",
              "</table>\n"
            ],
            "text/markdown": "\nA tibble: 6 × 31\n\n| diagnosis &lt;fct&gt; | radius-mean &lt;dbl&gt; | texture-mean &lt;dbl&gt; | perimeter-mean &lt;dbl&gt; | area-mean &lt;dbl&gt; | smoothness-mean &lt;dbl&gt; | compactness-mean &lt;dbl&gt; | concavity-mean &lt;dbl&gt; | concave-points-mean &lt;dbl&gt; | symmetry-mean &lt;dbl&gt; | ⋯ ⋯ | radius-worst &lt;dbl&gt; | texture-worst &lt;dbl&gt; | perimeter-worst &lt;dbl&gt; | area-worst &lt;dbl&gt; | smoothness-worst &lt;dbl&gt; | compactness-worst &lt;dbl&gt; | concavity-worst &lt;dbl&gt; | concave-points-worst &lt;dbl&gt; | symmetry-worst &lt;dbl&gt; | fractal-dimension-worst &lt;dbl&gt; |\n|---|---|---|---|---|---|---|---|---|---|---|---|---|---|---|---|---|---|---|---|---|\n| M | 17.99 | 10.38 | 122.80 | 1001.0 | 0.11840 | 0.27760 | 0.3001 | 0.14710 | 0.2419 | ⋯ | 25.38 | 17.33 | 184.60 | 2019.0 | 0.1622 | 0.6656 | 0.7119 | 0.2654 | 0.4601 | 0.11890 |\n| M | 20.57 | 17.77 | 132.90 | 1326.0 | 0.08474 | 0.07864 | 0.0869 | 0.07017 | 0.1812 | ⋯ | 24.99 | 23.41 | 158.80 | 1956.0 | 0.1238 | 0.1866 | 0.2416 | 0.1860 | 0.2750 | 0.08902 |\n| M | 19.69 | 21.25 | 130.00 | 1203.0 | 0.10960 | 0.15990 | 0.1974 | 0.12790 | 0.2069 | ⋯ | 23.57 | 25.53 | 152.50 | 1709.0 | 0.1444 | 0.4245 | 0.4504 | 0.2430 | 0.3613 | 0.08758 |\n| M | 11.42 | 20.38 |  77.58 |  386.1 | 0.14250 | 0.28390 | 0.2414 | 0.10520 | 0.2597 | ⋯ | 14.91 | 26.50 |  98.87 |  567.7 | 0.2098 | 0.8663 | 0.6869 | 0.2575 | 0.6638 | 0.17300 |\n| M | 20.29 | 14.34 | 135.10 | 1297.0 | 0.10030 | 0.13280 | 0.1980 | 0.10430 | 0.1809 | ⋯ | 22.54 | 16.67 | 152.20 | 1575.0 | 0.1374 | 0.2050 | 0.4000 | 0.1625 | 0.2364 | 0.07678 |\n| M | 12.45 | 15.70 |  82.57 |  477.1 | 0.12780 | 0.17000 | 0.1578 | 0.08089 | 0.2087 | ⋯ | 15.47 | 23.75 | 103.40 |  741.6 | 0.1791 | 0.5249 | 0.5355 | 0.1741 | 0.3985 | 0.12440 |\n\n",
            "text/latex": "A tibble: 6 × 31\n\\begin{tabular}{lllllllllllllllllllll}\n diagnosis & radius-mean & texture-mean & perimeter-mean & area-mean & smoothness-mean & compactness-mean & concavity-mean & concave-points-mean & symmetry-mean & ⋯ & radius-worst & texture-worst & perimeter-worst & area-worst & smoothness-worst & compactness-worst & concavity-worst & concave-points-worst & symmetry-worst & fractal-dimension-worst\\\\\n <fct> & <dbl> & <dbl> & <dbl> & <dbl> & <dbl> & <dbl> & <dbl> & <dbl> & <dbl> & ⋯ & <dbl> & <dbl> & <dbl> & <dbl> & <dbl> & <dbl> & <dbl> & <dbl> & <dbl> & <dbl>\\\\\n\\hline\n\t M & 17.99 & 10.38 & 122.80 & 1001.0 & 0.11840 & 0.27760 & 0.3001 & 0.14710 & 0.2419 & ⋯ & 25.38 & 17.33 & 184.60 & 2019.0 & 0.1622 & 0.6656 & 0.7119 & 0.2654 & 0.4601 & 0.11890\\\\\n\t M & 20.57 & 17.77 & 132.90 & 1326.0 & 0.08474 & 0.07864 & 0.0869 & 0.07017 & 0.1812 & ⋯ & 24.99 & 23.41 & 158.80 & 1956.0 & 0.1238 & 0.1866 & 0.2416 & 0.1860 & 0.2750 & 0.08902\\\\\n\t M & 19.69 & 21.25 & 130.00 & 1203.0 & 0.10960 & 0.15990 & 0.1974 & 0.12790 & 0.2069 & ⋯ & 23.57 & 25.53 & 152.50 & 1709.0 & 0.1444 & 0.4245 & 0.4504 & 0.2430 & 0.3613 & 0.08758\\\\\n\t M & 11.42 & 20.38 &  77.58 &  386.1 & 0.14250 & 0.28390 & 0.2414 & 0.10520 & 0.2597 & ⋯ & 14.91 & 26.50 &  98.87 &  567.7 & 0.2098 & 0.8663 & 0.6869 & 0.2575 & 0.6638 & 0.17300\\\\\n\t M & 20.29 & 14.34 & 135.10 & 1297.0 & 0.10030 & 0.13280 & 0.1980 & 0.10430 & 0.1809 & ⋯ & 22.54 & 16.67 & 152.20 & 1575.0 & 0.1374 & 0.2050 & 0.4000 & 0.1625 & 0.2364 & 0.07678\\\\\n\t M & 12.45 & 15.70 &  82.57 &  477.1 & 0.12780 & 0.17000 & 0.1578 & 0.08089 & 0.2087 & ⋯ & 15.47 & 23.75 & 103.40 &  741.6 & 0.1791 & 0.5249 & 0.5355 & 0.1741 & 0.3985 & 0.12440\\\\\n\\end{tabular}\n",
            "text/plain": [
              "  diagnosis radius-mean texture-mean perimeter-mean area-mean smoothness-mean\n",
              "1 M         17.99       10.38        122.80         1001.0    0.11840        \n",
              "2 M         20.57       17.77        132.90         1326.0    0.08474        \n",
              "3 M         19.69       21.25        130.00         1203.0    0.10960        \n",
              "4 M         11.42       20.38         77.58          386.1    0.14250        \n",
              "5 M         20.29       14.34        135.10         1297.0    0.10030        \n",
              "6 M         12.45       15.70         82.57          477.1    0.12780        \n",
              "  compactness-mean concavity-mean concave-points-mean symmetry-mean ⋯\n",
              "1 0.27760          0.3001         0.14710             0.2419        ⋯\n",
              "2 0.07864          0.0869         0.07017             0.1812        ⋯\n",
              "3 0.15990          0.1974         0.12790             0.2069        ⋯\n",
              "4 0.28390          0.2414         0.10520             0.2597        ⋯\n",
              "5 0.13280          0.1980         0.10430             0.1809        ⋯\n",
              "6 0.17000          0.1578         0.08089             0.2087        ⋯\n",
              "  radius-worst texture-worst perimeter-worst area-worst smoothness-worst\n",
              "1 25.38        17.33         184.60          2019.0     0.1622          \n",
              "2 24.99        23.41         158.80          1956.0     0.1238          \n",
              "3 23.57        25.53         152.50          1709.0     0.1444          \n",
              "4 14.91        26.50          98.87           567.7     0.2098          \n",
              "5 22.54        16.67         152.20          1575.0     0.1374          \n",
              "6 15.47        23.75         103.40           741.6     0.1791          \n",
              "  compactness-worst concavity-worst concave-points-worst symmetry-worst\n",
              "1 0.6656            0.7119          0.2654               0.4601        \n",
              "2 0.1866            0.2416          0.1860               0.2750        \n",
              "3 0.4245            0.4504          0.2430               0.3613        \n",
              "4 0.8663            0.6869          0.2575               0.6638        \n",
              "5 0.2050            0.4000          0.1625               0.2364        \n",
              "6 0.5249            0.5355          0.1741               0.3985        \n",
              "  fractal-dimension-worst\n",
              "1 0.11890                \n",
              "2 0.08902                \n",
              "3 0.08758                \n",
              "4 0.17300                \n",
              "5 0.07678                \n",
              "6 0.12440                "
            ]
          },
          "metadata": {}
        }
      ]
    },
    {
      "cell_type": "markdown",
      "source": [
        "calculando a moda, média (mean), mediana (median), desvio padrão (sd) e a variância (var)"
      ],
      "metadata": {
        "id": "aXr1dXmzaLAM"
      }
    },
    {
      "cell_type": "code",
      "source": [
        "#função para conseguir a moda\n",
        "getmode <- function(v) {\n",
        "  uniqv <- unique(v)\n",
        "  uniqv[which.max(tabulate(match(v, uniqv)))]\n",
        "}"
      ],
      "metadata": {
        "id": "E2OMgxW0FJDQ"
      },
      "execution_count": null,
      "outputs": []
    },
    {
      "cell_type": "code",
      "source": [
        "#testando se a função moda funciona\n",
        "summary(x$diagnosis)\n",
        "getmode(x$diagnosis)"
      ],
      "metadata": {
        "colab": {
          "base_uri": "https://localhost:8080/",
          "height": 69
        },
        "id": "fMZUrCLNDrHm",
        "outputId": "86b6eeb6-0268-45aa-c048-3f56dac3397b"
      },
      "execution_count": null,
      "outputs": [
        {
          "output_type": "display_data",
          "data": {
            "text/html": [
              "<style>\n",
              ".dl-inline {width: auto; margin:0; padding: 0}\n",
              ".dl-inline>dt, .dl-inline>dd {float: none; width: auto; display: inline-block}\n",
              ".dl-inline>dt::after {content: \":\\0020\"; padding-right: .5ex}\n",
              ".dl-inline>dt:not(:first-of-type) {padding-left: .5ex}\n",
              "</style><dl class=dl-inline><dt>B</dt><dd>357</dd><dt>M</dt><dd>212</dd></dl>\n"
            ],
            "text/markdown": "B\n:   357M\n:   212\n\n",
            "text/latex": "\\begin{description*}\n\\item[B] 357\n\\item[M] 212\n\\end{description*}\n",
            "text/plain": [
              "  B   M \n",
              "357 212 "
            ]
          },
          "metadata": {}
        },
        {
          "output_type": "display_data",
          "data": {
            "text/html": [
              "B\n",
              "<details>\n",
              "\t<summary style=display:list-item;cursor:pointer>\n",
              "\t\t<strong>Levels</strong>:\n",
              "\t</summary>\n",
              "\t<style>\n",
              "\t.list-inline {list-style: none; margin:0; padding: 0}\n",
              "\t.list-inline>li {display: inline-block}\n",
              "\t.list-inline>li:not(:last-child)::after {content: \"\\00b7\"; padding: 0 .5ex}\n",
              "\t</style>\n",
              "\t<ol class=list-inline><li>'B'</li><li>'M'</li></ol>\n",
              "</details>"
            ],
            "text/markdown": "B\n**Levels**: 1. 'B'\n2. 'M'\n\n\n",
            "text/latex": "B\n\\emph{Levels}: \\begin{enumerate*}\n\\item 'B'\n\\item 'M'\n\\end{enumerate*}\n",
            "text/plain": [
              "[1] B\n",
              "Levels: B M"
            ]
          },
          "metadata": {}
        }
      ]
    },
    {
      "cell_type": "code",
      "source": [
        "# radius-mean\n",
        "print(\"radius-mean\")\n",
        "mean(x$`radius-mean`)\n",
        "median(x$`radius-mean`)\n",
        "getmode(x$`radius-mean`)\n",
        "var(x$`radius-mean`)\n",
        "sd(x$`radius-mean`)\n",
        "\n",
        "# texture-mean\n",
        "print(\"texture-mean\")\n",
        "mean(x$`texture-mean`)\n",
        "median(x$`texture-mean`)\n",
        "getmode(x$`texture-mean`)\n",
        "var(x$`texture-mean`)\n",
        "sd(x$`texture-mean`)\n",
        "\n",
        "# perimeter-mean\n",
        "print(\"perimeter-mean\")\n",
        "mean(x$`perimeter-mean`)\n",
        "median(x$`perimeter-mean`)\n",
        "getmode(x$`perimeter-mean`)\n",
        "var(x$`perimeter-mean`)\n",
        "sd(x$`perimeter-mean`)\n",
        "\n",
        "# area-mean\n",
        "print(\"area-mean\")\n",
        "mean(x$`area-mean`)\n",
        "median(x$`area-mean`)\n",
        "getmode(x$`area-mean`)\n",
        "var(x$`area-mean`)\n",
        "sd(x$`area-mean`)\n",
        "\n",
        "# smoothness-mean\n",
        "print(\"smoothness-mean\")\n",
        "mean(x$`smoothness-mean`)\n",
        "median(x$`smoothness-mean`)\n",
        "getmode(x$`smoothness-mean`)\n",
        "var(x$`smoothness-mean`)\n",
        "sd(x$`smoothness-mean`)\n",
        "\n",
        "# compactness-mean\n",
        "print(\"compactness-mean\")\n",
        "mean(x$`compactness-mean`)\n",
        "median(x$`compactness-mean`)\n",
        "getmode(x$`compactness-mean`)\n",
        "var(x$`compactness-mean`)\n",
        "sd(x$`compactness-mean`)\n",
        "\n",
        "# concavity-mean\n",
        "print(\"concavity-mean\")\n",
        "mean(x$`concavity-mean`)\n",
        "median(x$`concavity-mean`)\n",
        "getmode(x$`concavity-mean`)\n",
        "var(x$`concavity-mean`)\n",
        "sd(x$`concavity-mean`)\n",
        "\n",
        "# concave-points-mean\n",
        "print(\"concave-points-mean\")\n",
        "mean(x$`concave-points-mean`)\n",
        "median(x$`concave-points-mean`)\n",
        "getmode(x$`concave-points-mean`)\n",
        "var(x$`concave-points-mean`)\n",
        "sd(x$`concave-points-mean`)\n",
        "\n",
        "# symmetry-mean\n",
        "print(\"symmetry-mean\")\n",
        "mean(x$`symmetry-mean`)\n",
        "median(x$`symmetry-mean`)\n",
        "getmode(x$`symmetry-mean`)\n",
        "var(x$`symmetry-mean`)\n",
        "sd(x$`symmetry-mean`)\n",
        "\n",
        "# fractal-dimension-mean\n",
        "print(\"fractal-dimension-mean\")\n",
        "mean(x$`fractal-dimension-mean`)\n",
        "median(x$`fractal-dimension-mean`)\n",
        "getmode(x$`fractal-dimension-mean`)\n",
        "var(x$`fractal-dimension-mean`)\n",
        "sd(x$`fractal-dimension-mean`)\n",
        "\n",
        "# radius-se\n",
        "print(\"radius-se\")\n",
        "mean(x$`radius-se`)\n",
        "median(x$`radius-se`)\n",
        "getmode(x$`radius-se`)\n",
        "var(x$`radius-se`)\n",
        "sd(x$`radius-se`)\n",
        "\n",
        "# texture-se\n",
        "print(\"texture-se\")\n",
        "mean(x$`texture-se`)\n",
        "median(x$`texture-se`)\n",
        "getmode(x$`texture-se`)\n",
        "var(x$`texture-se`)\n",
        "sd(x$`texture-se`)\n",
        "\n",
        "# perimeter-se\n",
        "print(\"perimeter-se\")\n",
        "mean(x$`perimeter-se`)\n",
        "median(x$`perimeter-se`)\n",
        "getmode(x$`perimeter-se`)\n",
        "var(x$`perimeter-se`)\n",
        "sd(x$`perimeter-se`)\n",
        "\n",
        "# area-se\n",
        "print(\"area-se\")\n",
        "mean(x$`area-se`)\n",
        "median(x$`area-se`)\n",
        "getmode(x$`area-se`)\n",
        "var(x$`area-se`)\n",
        "sd(x$`area-se`)\n",
        "\n",
        "# smoothness-se\n",
        "print(\"smoothness-se\")\n",
        "mean(x$`smoothness-se`)\n",
        "median(x$`smoothness-se`)\n",
        "getmode(x$`smoothness-se`)\n",
        "var(x$`smoothness-se`)\n",
        "sd(x$`smoothness-se`)\n",
        "\n",
        "# compactness-se\n",
        "print(\"compactness-se\")\n",
        "mean(x$`compactness-se`)\n",
        "median(x$`compactness-se`)\n",
        "getmode(x$`compactness-se`)\n",
        "var(x$`compactness-se`)\n",
        "sd(x$`compactness-se`)\n",
        "\n",
        "# concavity-se\n",
        "print(\"concavity-se\")\n",
        "mean(x$`concavity-se`)\n",
        "median(x$`concavity-se`)\n",
        "getmode(x$`concavity-se`)\n",
        "var(x$`concavity-se`)\n",
        "sd(x$`concavity-se`)\n",
        "\n",
        "# concave-points-se\n",
        "print(\"concave-points-se\")\n",
        "mean(x$`concave-points-se`)\n",
        "median(x$`concave-points-se`)\n",
        "getmode(x$`concave-points-se`)\n",
        "var(x$`concave-points-se`)\n",
        "sd(x$`concave-points-se`)\n",
        "\n",
        "# symmetry-se\n",
        "print(\"symmetry-se\")\n",
        "mean(x$`symmetry-se`)\n",
        "median(x$`symmetry-se`)\n",
        "getmode(x$`symmetry-se`)\n",
        "var(x$`symmetry-se`)\n",
        "sd(x$`symmetry-se`)\n",
        "\n",
        "# fractal-dimension-se\n",
        "print(\"fractal-dimension-se\")\n",
        "mean(x$`fractal-dimension-se`)\n",
        "median(x$`fractal-dimension-se`)\n",
        "getmode(x$`fractal-dimension-se`)\n",
        "var(x$`fractal-dimension-se`)\n",
        "sd(x$`fractal-dimension-se`)\n",
        "\n",
        "# radius-worst\n",
        "print(\"radius-worst\")\n",
        "mean(x$`radius-worst`)\n",
        "median(x$`radius-worst`)\n",
        "getmode(x$`radius-worst`)\n",
        "var(x$`radius-worst`)\n",
        "sd(x$`radius-worst`)\n",
        "\n",
        "# texture-worst\n",
        "print(\"texture-worst\")\n",
        "mean(x$`texture-worst`)\n",
        "median(x$`texture-worst`)\n",
        "getmode(x$`texture-worst`)\n",
        "var(x$`texture-worst`)\n",
        "sd(x$`texture-worst`)\n",
        "\n",
        "# perimeter-worst\n",
        "print(\"perimeter-worst\")\n",
        "mean(x$`perimeter-worst`)\n",
        "median(x$`perimeter-worst`)\n",
        "getmode(x$`perimeter-worst`)\n",
        "var(x$`perimeter-worst`)\n",
        "sd(x$`perimeter-worst`)\n",
        "\n",
        "# area-worst\n",
        "print(\"area-worst\")\n",
        "mean(x$`area-worst`)\n",
        "median(x$`area-worst`)\n",
        "getmode(x$`area-worst`)\n",
        "var(x$`area-worst`)\n",
        "sd(x$`area-worst`)\n",
        "\n",
        "# smoothness-worst\n",
        "print(\"smoothness-worst\")\n",
        "mean(x$`smoothness-worst`)\n",
        "median(x$`smoothness-worst`)\n",
        "getmode(x$`smoothness-worst`)\n",
        "var(x$`smoothness-worst`)\n",
        "sd(x$`smoothness-worst`)\n",
        "\n",
        "# compactness-worst\n",
        "print(\"compactness-worst\")\n",
        "mean(x$`compactness-worst`)\n",
        "median(x$`compactness-worst`)\n",
        "getmode(x$`compactness-worst`)\n",
        "var(x$`compactness-worst`)\n",
        "sd(x$`compactness-worst`)\n",
        "\n",
        "# concavity-worst\n",
        "print(\"concavity-worst\")\n",
        "mean(x$`concavity-worst`)\n",
        "median(x$`concavity-worst`)\n",
        "getmode(x$`concavity-worst`)\n",
        "var(x$`concavity-worst`)\n",
        "sd(x$`concavity-worst`)\n",
        "\n",
        "# concave-points-worst\n",
        "print(\"concave-points-worst\")\n",
        "mean(x$`concave-points-worst`)\n",
        "median(x$`concave-points-worst`)\n",
        "getmode(x$`concave-points-worst`)\n",
        "var(x$`concave-points-worst`)\n",
        "sd(x$`concave-points-worst`)\n",
        "\n",
        "# symmetry-worst\n",
        "print(\"symmetry-worst\")\n",
        "mean(x$`symmetry-worst`)\n",
        "median(x$`symmetry-worst`)\n",
        "getmode(x$`symmetry-worst`)\n",
        "var(x$`symmetry-worst`)\n",
        "sd(x$`symmetry-worst`)\n",
        "\n",
        "# fractal-dimension-worst\n",
        "print(\"fractal-dimension-worst\")\n",
        "mean(x$`fractal-dimension-worst`)\n",
        "median(x$`fractal-dimension-worst`)\n",
        "getmode(x$`fractal-dimension-worst`)\n",
        "var(x$`fractal-dimension-worst`)\n",
        "sd(x$`fractal-dimension-worst`)\n"
      ],
      "metadata": {
        "colab": {
          "base_uri": "https://localhost:8080/",
          "height": 1000
        },
        "id": "_8pFqoReDwNU",
        "outputId": "b5a88146-cc99-4cef-dfa7-2c1c3a0dacaf"
      },
      "execution_count": null,
      "outputs": [
        {
          "output_type": "stream",
          "name": "stdout",
          "text": [
            "[1] \"radius-mean\"\n"
          ]
        },
        {
          "output_type": "display_data",
          "data": {
            "text/html": [
              "14.1272917398946"
            ],
            "text/markdown": "14.1272917398946",
            "text/latex": "14.1272917398946",
            "text/plain": [
              "[1] 14.12729"
            ]
          },
          "metadata": {}
        },
        {
          "output_type": "display_data",
          "data": {
            "text/html": [
              "13.37"
            ],
            "text/markdown": "13.37",
            "text/latex": "13.37",
            "text/plain": [
              "[1] 13.37"
            ]
          },
          "metadata": {}
        },
        {
          "output_type": "display_data",
          "data": {
            "text/html": [
              "12.34"
            ],
            "text/markdown": "12.34",
            "text/latex": "12.34",
            "text/plain": [
              "[1] 12.34"
            ]
          },
          "metadata": {}
        },
        {
          "output_type": "display_data",
          "data": {
            "text/html": [
              "12.4189201295267"
            ],
            "text/markdown": "12.4189201295267",
            "text/latex": "12.4189201295267",
            "text/plain": [
              "[1] 12.41892"
            ]
          },
          "metadata": {}
        },
        {
          "output_type": "display_data",
          "data": {
            "text/html": [
              "3.52404882621208"
            ],
            "text/markdown": "3.52404882621208",
            "text/latex": "3.52404882621208",
            "text/plain": [
              "[1] 3.524049"
            ]
          },
          "metadata": {}
        },
        {
          "output_type": "stream",
          "name": "stdout",
          "text": [
            "[1] \"texture-mean\"\n"
          ]
        },
        {
          "output_type": "display_data",
          "data": {
            "text/html": [
              "19.2896485061511"
            ],
            "text/markdown": "19.2896485061511",
            "text/latex": "19.2896485061511",
            "text/plain": [
              "[1] 19.28965"
            ]
          },
          "metadata": {}
        },
        {
          "output_type": "display_data",
          "data": {
            "text/html": [
              "18.84"
            ],
            "text/markdown": "18.84",
            "text/latex": "18.84",
            "text/plain": [
              "[1] 18.84"
            ]
          },
          "metadata": {}
        },
        {
          "output_type": "display_data",
          "data": {
            "text/html": [
              "15.7"
            ],
            "text/markdown": "15.7",
            "text/latex": "15.7",
            "text/plain": [
              "[1] 15.7"
            ]
          },
          "metadata": {}
        },
        {
          "output_type": "display_data",
          "data": {
            "text/html": [
              "18.4989086790515"
            ],
            "text/markdown": "18.4989086790515",
            "text/latex": "18.4989086790515",
            "text/plain": [
              "[1] 18.49891"
            ]
          },
          "metadata": {}
        },
        {
          "output_type": "display_data",
          "data": {
            "text/html": [
              "4.30103576816695"
            ],
            "text/markdown": "4.30103576816695",
            "text/latex": "4.30103576816695",
            "text/plain": [
              "[1] 4.301036"
            ]
          },
          "metadata": {}
        },
        {
          "output_type": "stream",
          "name": "stdout",
          "text": [
            "[1] \"perimeter-mean\"\n"
          ]
        },
        {
          "output_type": "display_data",
          "data": {
            "text/html": [
              "91.9690333919156"
            ],
            "text/markdown": "91.9690333919156",
            "text/latex": "91.9690333919156",
            "text/plain": [
              "[1] 91.96903"
            ]
          },
          "metadata": {}
        },
        {
          "output_type": "display_data",
          "data": {
            "text/html": [
              "86.24"
            ],
            "text/markdown": "86.24",
            "text/latex": "86.24",
            "text/plain": [
              "[1] 86.24"
            ]
          },
          "metadata": {}
        },
        {
          "output_type": "display_data",
          "data": {
            "text/html": [
              "82.61"
            ],
            "text/markdown": "82.61",
            "text/latex": "82.61",
            "text/plain": [
              "[1] 82.61"
            ]
          },
          "metadata": {}
        },
        {
          "output_type": "display_data",
          "data": {
            "text/html": [
              "590.44047952177"
            ],
            "text/markdown": "590.44047952177",
            "text/latex": "590.44047952177",
            "text/plain": [
              "[1] 590.4405"
            ]
          },
          "metadata": {}
        },
        {
          "output_type": "display_data",
          "data": {
            "text/html": [
              "24.2989810387549"
            ],
            "text/markdown": "24.2989810387549",
            "text/latex": "24.2989810387549",
            "text/plain": [
              "[1] 24.29898"
            ]
          },
          "metadata": {}
        },
        {
          "output_type": "stream",
          "name": "stdout",
          "text": [
            "[1] \"area-mean\"\n"
          ]
        },
        {
          "output_type": "display_data",
          "data": {
            "text/html": [
              "654.889103690685"
            ],
            "text/markdown": "654.889103690685",
            "text/latex": "654.889103690685",
            "text/plain": [
              "[1] 654.8891"
            ]
          },
          "metadata": {}
        },
        {
          "output_type": "display_data",
          "data": {
            "text/html": [
              "551.1"
            ],
            "text/markdown": "551.1",
            "text/latex": "551.1",
            "text/plain": [
              "[1] 551.1"
            ]
          },
          "metadata": {}
        },
        {
          "output_type": "display_data",
          "data": {
            "text/html": [
              "512.2"
            ],
            "text/markdown": "512.2",
            "text/latex": "512.2",
            "text/plain": [
              "[1] 512.2"
            ]
          },
          "metadata": {}
        },
        {
          "output_type": "display_data",
          "data": {
            "text/html": [
              "123843.554317681"
            ],
            "text/markdown": "123843.554317681",
            "text/latex": "123843.554317681",
            "text/plain": [
              "[1] 123843.6"
            ]
          },
          "metadata": {}
        },
        {
          "output_type": "display_data",
          "data": {
            "text/html": [
              "351.914129181653"
            ],
            "text/markdown": "351.914129181653",
            "text/latex": "351.914129181653",
            "text/plain": [
              "[1] 351.9141"
            ]
          },
          "metadata": {}
        },
        {
          "output_type": "stream",
          "name": "stdout",
          "text": [
            "[1] \"smoothness-mean\"\n"
          ]
        },
        {
          "output_type": "display_data",
          "data": {
            "text/html": [
              "0.0963602811950791"
            ],
            "text/markdown": "0.0963602811950791",
            "text/latex": "0.0963602811950791",
            "text/plain": [
              "[1] 0.09636028"
            ]
          },
          "metadata": {}
        },
        {
          "output_type": "display_data",
          "data": {
            "text/html": [
              "0.09587"
            ],
            "text/markdown": "0.09587",
            "text/latex": "0.09587",
            "text/plain": [
              "[1] 0.09587"
            ]
          },
          "metadata": {}
        },
        {
          "output_type": "display_data",
          "data": {
            "text/html": [
              "0.1007"
            ],
            "text/markdown": "0.1007",
            "text/latex": "0.1007",
            "text/plain": [
              "[1] 0.1007"
            ]
          },
          "metadata": {}
        },
        {
          "output_type": "display_data",
          "data": {
            "text/html": [
              "0.000197799700272903"
            ],
            "text/markdown": "0.000197799700272903",
            "text/latex": "0.000197799700272903",
            "text/plain": [
              "[1] 0.0001977997"
            ]
          },
          "metadata": {}
        },
        {
          "output_type": "display_data",
          "data": {
            "text/html": [
              "0.0140641281376736"
            ],
            "text/markdown": "0.0140641281376736",
            "text/latex": "0.0140641281376736",
            "text/plain": [
              "[1] 0.01406413"
            ]
          },
          "metadata": {}
        },
        {
          "output_type": "stream",
          "name": "stdout",
          "text": [
            "[1] \"compactness-mean\"\n"
          ]
        },
        {
          "output_type": "display_data",
          "data": {
            "text/html": [
              "0.104340984182777"
            ],
            "text/markdown": "0.104340984182777",
            "text/latex": "0.104340984182777",
            "text/plain": [
              "[1] 0.104341"
            ]
          },
          "metadata": {}
        },
        {
          "output_type": "display_data",
          "data": {
            "text/html": [
              "0.09263"
            ],
            "text/markdown": "0.09263",
            "text/latex": "0.09263",
            "text/plain": [
              "[1] 0.09263"
            ]
          },
          "metadata": {}
        },
        {
          "output_type": "display_data",
          "data": {
            "text/html": [
              "0.1206"
            ],
            "text/markdown": "0.1206",
            "text/latex": "0.1206",
            "text/plain": [
              "[1] 0.1206"
            ]
          },
          "metadata": {}
        },
        {
          "output_type": "display_data",
          "data": {
            "text/html": [
              "0.00278918740043813"
            ],
            "text/markdown": "0.00278918740043813",
            "text/latex": "0.00278918740043813",
            "text/plain": [
              "[1] 0.002789187"
            ]
          },
          "metadata": {}
        },
        {
          "output_type": "display_data",
          "data": {
            "text/html": [
              "0.0528127579325122"
            ],
            "text/markdown": "0.0528127579325122",
            "text/latex": "0.0528127579325122",
            "text/plain": [
              "[1] 0.05281276"
            ]
          },
          "metadata": {}
        },
        {
          "output_type": "stream",
          "name": "stdout",
          "text": [
            "[1] \"concavity-mean\"\n"
          ]
        },
        {
          "output_type": "display_data",
          "data": {
            "text/html": [
              "0.0887993158172232"
            ],
            "text/markdown": "0.0887993158172232",
            "text/latex": "0.0887993158172232",
            "text/plain": [
              "[1] 0.08879932"
            ]
          },
          "metadata": {}
        },
        {
          "output_type": "display_data",
          "data": {
            "text/html": [
              "0.06154"
            ],
            "text/markdown": "0.06154",
            "text/latex": "0.06154",
            "text/plain": [
              "[1] 0.06154"
            ]
          },
          "metadata": {}
        },
        {
          "output_type": "display_data",
          "data": {
            "text/html": [
              "0"
            ],
            "text/markdown": "0",
            "text/latex": "0",
            "text/plain": [
              "[1] 0"
            ]
          },
          "metadata": {}
        },
        {
          "output_type": "display_data",
          "data": {
            "text/html": [
              "0.00635524790042313"
            ],
            "text/markdown": "0.00635524790042313",
            "text/latex": "0.00635524790042313",
            "text/plain": [
              "[1] 0.006355248"
            ]
          },
          "metadata": {}
        },
        {
          "output_type": "display_data",
          "data": {
            "text/html": [
              "0.0797198087078935"
            ],
            "text/markdown": "0.0797198087078935",
            "text/latex": "0.0797198087078935",
            "text/plain": [
              "[1] 0.07971981"
            ]
          },
          "metadata": {}
        },
        {
          "output_type": "stream",
          "name": "stdout",
          "text": [
            "[1] \"concave-points-mean\"\n"
          ]
        },
        {
          "output_type": "display_data",
          "data": {
            "text/html": [
              "0.0489191458699473"
            ],
            "text/markdown": "0.0489191458699473",
            "text/latex": "0.0489191458699473",
            "text/plain": [
              "[1] 0.04891915"
            ]
          },
          "metadata": {}
        },
        {
          "output_type": "display_data",
          "data": {
            "text/html": [
              "0.0335"
            ],
            "text/markdown": "0.0335",
            "text/latex": "0.0335",
            "text/plain": [
              "[1] 0.0335"
            ]
          },
          "metadata": {}
        },
        {
          "output_type": "display_data",
          "data": {
            "text/html": [
              "0"
            ],
            "text/markdown": "0",
            "text/latex": "0",
            "text/plain": [
              "[1] 0"
            ]
          },
          "metadata": {}
        },
        {
          "output_type": "display_data",
          "data": {
            "text/html": [
              "0.00150566076916354"
            ],
            "text/markdown": "0.00150566076916354",
            "text/latex": "0.00150566076916354",
            "text/plain": [
              "[1] 0.001505661"
            ]
          },
          "metadata": {}
        },
        {
          "output_type": "display_data",
          "data": {
            "text/html": [
              "0.0388028448591536"
            ],
            "text/markdown": "0.0388028448591536",
            "text/latex": "0.0388028448591536",
            "text/plain": [
              "[1] 0.03880284"
            ]
          },
          "metadata": {}
        },
        {
          "output_type": "stream",
          "name": "stdout",
          "text": [
            "[1] \"symmetry-mean\"\n"
          ]
        },
        {
          "output_type": "display_data",
          "data": {
            "text/html": [
              "0.181161862917399"
            ],
            "text/markdown": "0.181161862917399",
            "text/latex": "0.181161862917399",
            "text/plain": [
              "[1] 0.1811619"
            ]
          },
          "metadata": {}
        },
        {
          "output_type": "display_data",
          "data": {
            "text/html": [
              "0.1792"
            ],
            "text/markdown": "0.1792",
            "text/latex": "0.1792",
            "text/plain": [
              "[1] 0.1792"
            ]
          },
          "metadata": {}
        },
        {
          "output_type": "display_data",
          "data": {
            "text/html": [
              "0.1769"
            ],
            "text/markdown": "0.1769",
            "text/latex": "0.1769",
            "text/plain": [
              "[1] 0.1769"
            ]
          },
          "metadata": {}
        },
        {
          "output_type": "display_data",
          "data": {
            "text/html": [
              "0.000751542821171316"
            ],
            "text/markdown": "0.000751542821171316",
            "text/latex": "0.000751542821171316",
            "text/plain": [
              "[1] 0.0007515428"
            ]
          },
          "metadata": {}
        },
        {
          "output_type": "display_data",
          "data": {
            "text/html": [
              "0.0274142813360357"
            ],
            "text/markdown": "0.0274142813360357",
            "text/latex": "0.0274142813360357",
            "text/plain": [
              "[1] 0.02741428"
            ]
          },
          "metadata": {}
        },
        {
          "output_type": "stream",
          "name": "stdout",
          "text": [
            "[1] \"fractal-dimension-mean\"\n"
          ]
        },
        {
          "output_type": "display_data",
          "data": {
            "text/html": [
              "0.0627976098418278"
            ],
            "text/markdown": "0.0627976098418278",
            "text/latex": "0.0627976098418278",
            "text/plain": [
              "[1] 0.06279761"
            ]
          },
          "metadata": {}
        },
        {
          "output_type": "display_data",
          "data": {
            "text/html": [
              "0.06154"
            ],
            "text/markdown": "0.06154",
            "text/latex": "0.06154",
            "text/plain": [
              "[1] 0.06154"
            ]
          },
          "metadata": {}
        },
        {
          "output_type": "display_data",
          "data": {
            "text/html": [
              "0.05667"
            ],
            "text/markdown": "0.05667",
            "text/latex": "0.05667",
            "text/plain": [
              "[1] 0.05667"
            ]
          },
          "metadata": {}
        },
        {
          "output_type": "display_data",
          "data": {
            "text/html": [
              "4.98487227982128e-05"
            ],
            "text/markdown": "4.98487227982128e-05",
            "text/latex": "4.98487227982128e-05",
            "text/plain": [
              "[1] 4.984872e-05"
            ]
          },
          "metadata": {}
        },
        {
          "output_type": "display_data",
          "data": {
            "text/html": [
              "0.00706036279508446"
            ],
            "text/markdown": "0.00706036279508446",
            "text/latex": "0.00706036279508446",
            "text/plain": [
              "[1] 0.007060363"
            ]
          },
          "metadata": {}
        },
        {
          "output_type": "stream",
          "name": "stdout",
          "text": [
            "[1] \"radius-se\"\n"
          ]
        },
        {
          "output_type": "display_data",
          "data": {
            "text/html": [
              "0.405172056239016"
            ],
            "text/markdown": "0.405172056239016",
            "text/latex": "0.405172056239016",
            "text/plain": [
              "[1] 0.4051721"
            ]
          },
          "metadata": {}
        },
        {
          "output_type": "display_data",
          "data": {
            "text/html": [
              "0.3242"
            ],
            "text/markdown": "0.3242",
            "text/latex": "0.3242",
            "text/plain": [
              "[1] 0.3242"
            ]
          },
          "metadata": {}
        },
        {
          "output_type": "display_data",
          "data": {
            "text/html": [
              "0.286"
            ],
            "text/markdown": "0.286",
            "text/latex": "0.286",
            "text/plain": [
              "[1] 0.286"
            ]
          },
          "metadata": {}
        },
        {
          "output_type": "display_data",
          "data": {
            "text/html": [
              "0.0769023518762222"
            ],
            "text/markdown": "0.0769023518762222",
            "text/latex": "0.0769023518762222",
            "text/plain": [
              "[1] 0.07690235"
            ]
          },
          "metadata": {}
        },
        {
          "output_type": "display_data",
          "data": {
            "text/html": [
              "0.277312732986104"
            ],
            "text/markdown": "0.277312732986104",
            "text/latex": "0.277312732986104",
            "text/plain": [
              "[1] 0.2773127"
            ]
          },
          "metadata": {}
        },
        {
          "output_type": "stream",
          "name": "stdout",
          "text": [
            "[1] \"texture-se\"\n"
          ]
        },
        {
          "output_type": "display_data",
          "data": {
            "text/html": [
              "1.21685342706503"
            ],
            "text/markdown": "1.21685342706503",
            "text/latex": "1.21685342706503",
            "text/plain": [
              "[1] 1.216853"
            ]
          },
          "metadata": {}
        },
        {
          "output_type": "display_data",
          "data": {
            "text/html": [
              "1.108"
            ],
            "text/markdown": "1.108",
            "text/latex": "1.108",
            "text/plain": [
              "[1] 1.108"
            ]
          },
          "metadata": {}
        },
        {
          "output_type": "display_data",
          "data": {
            "text/html": [
              "1.15"
            ],
            "text/markdown": "1.15",
            "text/latex": "1.15",
            "text/plain": [
              "[1] 1.15"
            ]
          },
          "metadata": {}
        },
        {
          "output_type": "display_data",
          "data": {
            "text/html": [
              "0.304315949077143"
            ],
            "text/markdown": "0.304315949077143",
            "text/latex": "0.304315949077143",
            "text/plain": [
              "[1] 0.3043159"
            ]
          },
          "metadata": {}
        },
        {
          "output_type": "display_data",
          "data": {
            "text/html": [
              "0.551648392617202"
            ],
            "text/markdown": "0.551648392617202",
            "text/latex": "0.551648392617202",
            "text/plain": [
              "[1] 0.5516484"
            ]
          },
          "metadata": {}
        },
        {
          "output_type": "stream",
          "name": "stdout",
          "text": [
            "[1] \"perimeter-se\"\n"
          ]
        },
        {
          "output_type": "display_data",
          "data": {
            "text/html": [
              "2.86605922671353"
            ],
            "text/markdown": "2.86605922671353",
            "text/latex": "2.86605922671353",
            "text/plain": [
              "[1] 2.866059"
            ]
          },
          "metadata": {}
        },
        {
          "output_type": "display_data",
          "data": {
            "text/html": [
              "2.287"
            ],
            "text/markdown": "2.287",
            "text/latex": "2.287",
            "text/plain": [
              "[1] 2.287"
            ]
          },
          "metadata": {}
        },
        {
          "output_type": "display_data",
          "data": {
            "text/html": [
              "1.778"
            ],
            "text/markdown": "1.778",
            "text/latex": "1.778",
            "text/plain": [
              "[1] 1.778"
            ]
          },
          "metadata": {}
        },
        {
          "output_type": "display_data",
          "data": {
            "text/html": [
              "4.08789583770081"
            ],
            "text/markdown": "4.08789583770081",
            "text/latex": "4.08789583770081",
            "text/plain": [
              "[1] 4.087896"
            ]
          },
          "metadata": {}
        },
        {
          "output_type": "display_data",
          "data": {
            "text/html": [
              "2.02185455404211"
            ],
            "text/markdown": "2.02185455404211",
            "text/latex": "2.02185455404211",
            "text/plain": [
              "[1] 2.021855"
            ]
          },
          "metadata": {}
        },
        {
          "output_type": "stream",
          "name": "stdout",
          "text": [
            "[1] \"area-se\"\n"
          ]
        },
        {
          "output_type": "display_data",
          "data": {
            "text/html": [
              "40.337079086116"
            ],
            "text/markdown": "40.337079086116",
            "text/latex": "40.337079086116",
            "text/plain": [
              "[1] 40.33708"
            ]
          },
          "metadata": {}
        },
        {
          "output_type": "display_data",
          "data": {
            "text/html": [
              "24.53"
            ],
            "text/markdown": "24.53",
            "text/latex": "24.53",
            "text/plain": [
              "[1] 24.53"
            ]
          },
          "metadata": {}
        },
        {
          "output_type": "display_data",
          "data": {
            "text/html": [
              "16.97"
            ],
            "text/markdown": "16.97",
            "text/latex": "16.97",
            "text/plain": [
              "[1] 16.97"
            ]
          },
          "metadata": {}
        },
        {
          "output_type": "display_data",
          "data": {
            "text/html": [
              "2069.43158286873"
            ],
            "text/markdown": "2069.43158286873",
            "text/latex": "2069.43158286873",
            "text/plain": [
              "[1] 2069.432"
            ]
          },
          "metadata": {}
        },
        {
          "output_type": "display_data",
          "data": {
            "text/html": [
              "45.4910055161318"
            ],
            "text/markdown": "45.4910055161318",
            "text/latex": "45.4910055161318",
            "text/plain": [
              "[1] 45.49101"
            ]
          },
          "metadata": {}
        },
        {
          "output_type": "stream",
          "name": "stdout",
          "text": [
            "[1] \"smoothness-se\"\n"
          ]
        },
        {
          "output_type": "display_data",
          "data": {
            "text/html": [
              "0.00704097891036907"
            ],
            "text/markdown": "0.00704097891036907",
            "text/latex": "0.00704097891036907",
            "text/plain": [
              "[1] 0.007040979"
            ]
          },
          "metadata": {}
        },
        {
          "output_type": "display_data",
          "data": {
            "text/html": [
              "0.00638"
            ],
            "text/markdown": "0.00638",
            "text/latex": "0.00638",
            "text/plain": [
              "[1] 0.00638"
            ]
          },
          "metadata": {}
        },
        {
          "output_type": "display_data",
          "data": {
            "text/html": [
              "0.006399"
            ],
            "text/markdown": "0.006399",
            "text/latex": "0.006399",
            "text/plain": [
              "[1] 0.006399"
            ]
          },
          "metadata": {}
        },
        {
          "output_type": "display_data",
          "data": {
            "text/html": [
              "9.01511400307557e-06"
            ],
            "text/markdown": "9.01511400307557e-06",
            "text/latex": "9.01511400307557e-06",
            "text/plain": [
              "[1] 9.015114e-06"
            ]
          },
          "metadata": {}
        },
        {
          "output_type": "display_data",
          "data": {
            "text/html": [
              "0.00300251794383907"
            ],
            "text/markdown": "0.00300251794383907",
            "text/latex": "0.00300251794383907",
            "text/plain": [
              "[1] 0.003002518"
            ]
          },
          "metadata": {}
        },
        {
          "output_type": "stream",
          "name": "stdout",
          "text": [
            "[1] \"compactness-se\"\n"
          ]
        },
        {
          "output_type": "display_data",
          "data": {
            "text/html": [
              "0.0254781388400703"
            ],
            "text/markdown": "0.0254781388400703",
            "text/latex": "0.0254781388400703",
            "text/plain": [
              "[1] 0.02547814"
            ]
          },
          "metadata": {}
        },
        {
          "output_type": "display_data",
          "data": {
            "text/html": [
              "0.02045"
            ],
            "text/markdown": "0.02045",
            "text/latex": "0.02045",
            "text/plain": [
              "[1] 0.02045"
            ]
          },
          "metadata": {}
        },
        {
          "output_type": "display_data",
          "data": {
            "text/html": [
              "0.0231"
            ],
            "text/markdown": "0.0231",
            "text/latex": "0.0231",
            "text/plain": [
              "[1] 0.0231"
            ]
          },
          "metadata": {}
        },
        {
          "output_type": "display_data",
          "data": {
            "text/html": [
              "0.000320702886760619"
            ],
            "text/markdown": "0.000320702886760619",
            "text/latex": "0.000320702886760619",
            "text/plain": [
              "[1] 0.0003207029"
            ]
          },
          "metadata": {}
        },
        {
          "output_type": "display_data",
          "data": {
            "text/html": [
              "0.0179081793256774"
            ],
            "text/markdown": "0.0179081793256774",
            "text/latex": "0.0179081793256774",
            "text/plain": [
              "[1] 0.01790818"
            ]
          },
          "metadata": {}
        },
        {
          "output_type": "stream",
          "name": "stdout",
          "text": [
            "[1] \"concavity-se\"\n"
          ]
        },
        {
          "output_type": "display_data",
          "data": {
            "text/html": [
              "0.031893716344464"
            ],
            "text/markdown": "0.031893716344464",
            "text/latex": "0.031893716344464",
            "text/plain": [
              "[1] 0.03189372"
            ]
          },
          "metadata": {}
        },
        {
          "output_type": "display_data",
          "data": {
            "text/html": [
              "0.02589"
            ],
            "text/markdown": "0.02589",
            "text/latex": "0.02589",
            "text/plain": [
              "[1] 0.02589"
            ]
          },
          "metadata": {}
        },
        {
          "output_type": "display_data",
          "data": {
            "text/html": [
              "0"
            ],
            "text/markdown": "0",
            "text/latex": "0",
            "text/plain": [
              "[1] 0"
            ]
          },
          "metadata": {}
        },
        {
          "output_type": "display_data",
          "data": {
            "text/html": [
              "0.000911198237823095"
            ],
            "text/markdown": "0.000911198237823095",
            "text/latex": "0.000911198237823095",
            "text/plain": [
              "[1] 0.0009111982"
            ]
          },
          "metadata": {}
        },
        {
          "output_type": "display_data",
          "data": {
            "text/html": [
              "0.0301860603229884"
            ],
            "text/markdown": "0.0301860603229884",
            "text/latex": "0.0301860603229884",
            "text/plain": [
              "[1] 0.03018606"
            ]
          },
          "metadata": {}
        },
        {
          "output_type": "stream",
          "name": "stdout",
          "text": [
            "[1] \"concave-points-se\"\n"
          ]
        },
        {
          "output_type": "display_data",
          "data": {
            "text/html": [
              "0.0117961370826011"
            ],
            "text/markdown": "0.0117961370826011",
            "text/latex": "0.0117961370826011",
            "text/plain": [
              "[1] 0.01179614"
            ]
          },
          "metadata": {}
        },
        {
          "output_type": "display_data",
          "data": {
            "text/html": [
              "0.01093"
            ],
            "text/markdown": "0.01093",
            "text/latex": "0.01093",
            "text/plain": [
              "[1] 0.01093"
            ]
          },
          "metadata": {}
        },
        {
          "output_type": "display_data",
          "data": {
            "text/html": [
              "0"
            ],
            "text/markdown": "0",
            "text/latex": "0",
            "text/plain": [
              "[1] 0"
            ]
          },
          "metadata": {}
        },
        {
          "output_type": "display_data",
          "data": {
            "text/html": [
              "3.80724191290626e-05"
            ],
            "text/markdown": "3.80724191290626e-05",
            "text/latex": "3.80724191290626e-05",
            "text/plain": [
              "[1] 3.807242e-05"
            ]
          },
          "metadata": {}
        },
        {
          "output_type": "display_data",
          "data": {
            "text/html": [
              "0.00617028517404687"
            ],
            "text/markdown": "0.00617028517404687",
            "text/latex": "0.00617028517404687",
            "text/plain": [
              "[1] 0.006170285"
            ]
          },
          "metadata": {}
        },
        {
          "output_type": "stream",
          "name": "stdout",
          "text": [
            "[1] \"symmetry-se\"\n"
          ]
        },
        {
          "output_type": "display_data",
          "data": {
            "text/html": [
              "0.0205422987697715"
            ],
            "text/markdown": "0.0205422987697715",
            "text/latex": "0.0205422987697715",
            "text/plain": [
              "[1] 0.0205423"
            ]
          },
          "metadata": {}
        },
        {
          "output_type": "display_data",
          "data": {
            "text/html": [
              "0.01873"
            ],
            "text/markdown": "0.01873",
            "text/latex": "0.01873",
            "text/plain": [
              "[1] 0.01873"
            ]
          },
          "metadata": {}
        },
        {
          "output_type": "display_data",
          "data": {
            "text/html": [
              "0.01344"
            ],
            "text/markdown": "0.01344",
            "text/latex": "0.01344",
            "text/plain": [
              "[1] 0.01344"
            ]
          },
          "metadata": {}
        },
        {
          "output_type": "display_data",
          "data": {
            "text/html": [
              "6.83328982521288e-05"
            ],
            "text/markdown": "6.83328982521288e-05",
            "text/latex": "6.83328982521288e-05",
            "text/plain": [
              "[1] 6.83329e-05"
            ]
          },
          "metadata": {}
        },
        {
          "output_type": "display_data",
          "data": {
            "text/html": [
              "0.0082663715287984"
            ],
            "text/markdown": "0.0082663715287984",
            "text/latex": "0.0082663715287984",
            "text/plain": [
              "[1] 0.008266372"
            ]
          },
          "metadata": {}
        },
        {
          "output_type": "stream",
          "name": "stdout",
          "text": [
            "[1] \"fractal-dimension-se\"\n"
          ]
        },
        {
          "output_type": "display_data",
          "data": {
            "text/html": [
              "0.00379490386643234"
            ],
            "text/markdown": "0.00379490386643234",
            "text/latex": "0.00379490386643234",
            "text/plain": [
              "[1] 0.003794904"
            ]
          },
          "metadata": {}
        },
        {
          "output_type": "display_data",
          "data": {
            "text/html": [
              "0.003187"
            ],
            "text/markdown": "0.003187",
            "text/latex": "0.003187",
            "text/plain": [
              "[1] 0.003187"
            ]
          },
          "metadata": {}
        },
        {
          "output_type": "display_data",
          "data": {
            "text/html": [
              "0.003002"
            ],
            "text/markdown": "0.003002",
            "text/latex": "0.003002",
            "text/plain": [
              "[1] 0.003002"
            ]
          },
          "metadata": {}
        },
        {
          "output_type": "display_data",
          "data": {
            "text/html": [
              "7.00169156287235e-06"
            ],
            "text/markdown": "7.00169156287235e-06",
            "text/latex": "7.00169156287235e-06",
            "text/plain": [
              "[1] 7.001692e-06"
            ]
          },
          "metadata": {}
        },
        {
          "output_type": "display_data",
          "data": {
            "text/html": [
              "0.0026460709670892"
            ],
            "text/markdown": "0.0026460709670892",
            "text/latex": "0.0026460709670892",
            "text/plain": [
              "[1] 0.002646071"
            ]
          },
          "metadata": {}
        },
        {
          "output_type": "stream",
          "name": "stdout",
          "text": [
            "[1] \"radius-worst\"\n"
          ]
        },
        {
          "output_type": "display_data",
          "data": {
            "text/html": [
              "16.2691898066784"
            ],
            "text/markdown": "16.2691898066784",
            "text/latex": "16.2691898066784",
            "text/plain": [
              "[1] 16.26919"
            ]
          },
          "metadata": {}
        },
        {
          "output_type": "display_data",
          "data": {
            "text/html": [
              "14.97"
            ],
            "text/markdown": "14.97",
            "text/latex": "14.97",
            "text/plain": [
              "[1] 14.97"
            ]
          },
          "metadata": {}
        },
        {
          "output_type": "display_data",
          "data": {
            "text/html": [
              "12.36"
            ],
            "text/markdown": "12.36",
            "text/latex": "12.36",
            "text/plain": [
              "[1] 12.36"
            ]
          },
          "metadata": {}
        },
        {
          "output_type": "display_data",
          "data": {
            "text/html": [
              "23.3602241751776"
            ],
            "text/markdown": "23.3602241751776",
            "text/latex": "23.3602241751776",
            "text/plain": [
              "[1] 23.36022"
            ]
          },
          "metadata": {}
        },
        {
          "output_type": "display_data",
          "data": {
            "text/html": [
              "4.83324158046932"
            ],
            "text/markdown": "4.83324158046932",
            "text/latex": "4.83324158046932",
            "text/plain": [
              "[1] 4.833242"
            ]
          },
          "metadata": {}
        },
        {
          "output_type": "stream",
          "name": "stdout",
          "text": [
            "[1] \"texture-worst\"\n"
          ]
        },
        {
          "output_type": "display_data",
          "data": {
            "text/html": [
              "25.677223198594"
            ],
            "text/markdown": "25.677223198594",
            "text/latex": "25.677223198594",
            "text/plain": [
              "[1] 25.67722"
            ]
          },
          "metadata": {}
        },
        {
          "output_type": "display_data",
          "data": {
            "text/html": [
              "25.41"
            ],
            "text/markdown": "25.41",
            "text/latex": "25.41",
            "text/plain": [
              "[1] 25.41"
            ]
          },
          "metadata": {}
        },
        {
          "output_type": "display_data",
          "data": {
            "text/html": [
              "27.26"
            ],
            "text/markdown": "27.26",
            "text/latex": "27.26",
            "text/plain": [
              "[1] 27.26"
            ]
          },
          "metadata": {}
        },
        {
          "output_type": "display_data",
          "data": {
            "text/html": [
              "37.7764827687567"
            ],
            "text/markdown": "37.7764827687567",
            "text/latex": "37.7764827687567",
            "text/plain": [
              "[1] 37.77648"
            ]
          },
          "metadata": {}
        },
        {
          "output_type": "display_data",
          "data": {
            "text/html": [
              "6.14625762303832"
            ],
            "text/markdown": "6.14625762303832",
            "text/latex": "6.14625762303832",
            "text/plain": [
              "[1] 6.146258"
            ]
          },
          "metadata": {}
        },
        {
          "output_type": "stream",
          "name": "stdout",
          "text": [
            "[1] \"perimeter-worst\"\n"
          ]
        },
        {
          "output_type": "display_data",
          "data": {
            "text/html": [
              "107.261212653779"
            ],
            "text/markdown": "107.261212653779",
            "text/latex": "107.261212653779",
            "text/plain": [
              "[1] 107.2612"
            ]
          },
          "metadata": {}
        },
        {
          "output_type": "display_data",
          "data": {
            "text/html": [
              "97.66"
            ],
            "text/markdown": "97.66",
            "text/latex": "97.66",
            "text/plain": [
              "[1] 97.66"
            ]
          },
          "metadata": {}
        },
        {
          "output_type": "display_data",
          "data": {
            "text/html": [
              "117.7"
            ],
            "text/markdown": "117.7",
            "text/latex": "117.7",
            "text/plain": [
              "[1] 117.7"
            ]
          },
          "metadata": {}
        },
        {
          "output_type": "display_data",
          "data": {
            "text/html": [
              "1129.13084694237"
            ],
            "text/markdown": "1129.13084694237",
            "text/latex": "1129.13084694237",
            "text/plain": [
              "[1] 1129.131"
            ]
          },
          "metadata": {}
        },
        {
          "output_type": "display_data",
          "data": {
            "text/html": [
              "33.6025422690364"
            ],
            "text/markdown": "33.6025422690364",
            "text/latex": "33.6025422690364",
            "text/plain": [
              "[1] 33.60254"
            ]
          },
          "metadata": {}
        },
        {
          "output_type": "stream",
          "name": "stdout",
          "text": [
            "[1] \"area-worst\"\n"
          ]
        },
        {
          "output_type": "display_data",
          "data": {
            "text/html": [
              "880.583128295255"
            ],
            "text/markdown": "880.583128295255",
            "text/latex": "880.583128295255",
            "text/plain": [
              "[1] 880.5831"
            ]
          },
          "metadata": {}
        },
        {
          "output_type": "display_data",
          "data": {
            "text/html": [
              "686.5"
            ],
            "text/markdown": "686.5",
            "text/latex": "686.5",
            "text/plain": [
              "[1] 686.5"
            ]
          },
          "metadata": {}
        },
        {
          "output_type": "display_data",
          "data": {
            "text/html": [
              "1269"
            ],
            "text/markdown": "1269",
            "text/latex": "1269",
            "text/plain": [
              "[1] 1269"
            ]
          },
          "metadata": {}
        },
        {
          "output_type": "display_data",
          "data": {
            "text/html": [
              "324167.385102168"
            ],
            "text/markdown": "324167.385102168",
            "text/latex": "324167.385102168",
            "text/plain": [
              "[1] 324167.4"
            ]
          },
          "metadata": {}
        },
        {
          "output_type": "display_data",
          "data": {
            "text/html": [
              "569.356992669949"
            ],
            "text/markdown": "569.356992669949",
            "text/latex": "569.356992669949",
            "text/plain": [
              "[1] 569.357"
            ]
          },
          "metadata": {}
        },
        {
          "output_type": "stream",
          "name": "stdout",
          "text": [
            "[1] \"smoothness-worst\"\n"
          ]
        },
        {
          "output_type": "display_data",
          "data": {
            "text/html": [
              "0.132368594024605"
            ],
            "text/markdown": "0.132368594024605",
            "text/latex": "0.132368594024605",
            "text/plain": [
              "[1] 0.1323686"
            ]
          },
          "metadata": {}
        },
        {
          "output_type": "display_data",
          "data": {
            "text/html": [
              "0.1313"
            ],
            "text/markdown": "0.1313",
            "text/latex": "0.1313",
            "text/plain": [
              "[1] 0.1313"
            ]
          },
          "metadata": {}
        },
        {
          "output_type": "display_data",
          "data": {
            "text/html": [
              "0.1312"
            ],
            "text/markdown": "0.1312",
            "text/latex": "0.1312",
            "text/plain": [
              "[1] 0.1312"
            ]
          },
          "metadata": {}
        },
        {
          "output_type": "display_data",
          "data": {
            "text/html": [
              "0.000521319832526795"
            ],
            "text/markdown": "0.000521319832526795",
            "text/latex": "0.000521319832526795",
            "text/plain": [
              "[1] 0.0005213198"
            ]
          },
          "metadata": {}
        },
        {
          "output_type": "display_data",
          "data": {
            "text/html": [
              "0.0228324294048355"
            ],
            "text/markdown": "0.0228324294048355",
            "text/latex": "0.0228324294048355",
            "text/plain": [
              "[1] 0.02283243"
            ]
          },
          "metadata": {}
        },
        {
          "output_type": "stream",
          "name": "stdout",
          "text": [
            "[1] \"compactness-worst\"\n"
          ]
        },
        {
          "output_type": "display_data",
          "data": {
            "text/html": [
              "0.254265043936731"
            ],
            "text/markdown": "0.254265043936731",
            "text/latex": "0.254265043936731",
            "text/plain": [
              "[1] 0.254265"
            ]
          },
          "metadata": {}
        },
        {
          "output_type": "display_data",
          "data": {
            "text/html": [
              "0.2119"
            ],
            "text/markdown": "0.2119",
            "text/latex": "0.2119",
            "text/plain": [
              "[1] 0.2119"
            ]
          },
          "metadata": {}
        },
        {
          "output_type": "display_data",
          "data": {
            "text/html": [
              "0.3416"
            ],
            "text/markdown": "0.3416",
            "text/latex": "0.3416",
            "text/plain": [
              "[1] 0.3416"
            ]
          },
          "metadata": {}
        },
        {
          "output_type": "display_data",
          "data": {
            "text/html": [
              "0.0247547707437041"
            ],
            "text/markdown": "0.0247547707437041",
            "text/latex": "0.0247547707437041",
            "text/plain": [
              "[1] 0.02475477"
            ]
          },
          "metadata": {}
        },
        {
          "output_type": "display_data",
          "data": {
            "text/html": [
              "0.157336488913742"
            ],
            "text/markdown": "0.157336488913742",
            "text/latex": "0.157336488913742",
            "text/plain": [
              "[1] 0.1573365"
            ]
          },
          "metadata": {}
        },
        {
          "output_type": "stream",
          "name": "stdout",
          "text": [
            "[1] \"concavity-worst\"\n"
          ]
        },
        {
          "output_type": "display_data",
          "data": {
            "text/html": [
              "0.272188483304042"
            ],
            "text/markdown": "0.272188483304042",
            "text/latex": "0.272188483304042",
            "text/plain": [
              "[1] 0.2721885"
            ]
          },
          "metadata": {}
        },
        {
          "output_type": "display_data",
          "data": {
            "text/html": [
              "0.2267"
            ],
            "text/markdown": "0.2267",
            "text/latex": "0.2267",
            "text/plain": [
              "[1] 0.2267"
            ]
          },
          "metadata": {}
        },
        {
          "output_type": "display_data",
          "data": {
            "text/html": [
              "0"
            ],
            "text/markdown": "0",
            "text/latex": "0",
            "text/plain": [
              "[1] 0"
            ]
          },
          "metadata": {}
        },
        {
          "output_type": "display_data",
          "data": {
            "text/html": [
              "0.0435240904592607"
            ],
            "text/markdown": "0.0435240904592607",
            "text/latex": "0.0435240904592607",
            "text/plain": [
              "[1] 0.04352409"
            ]
          },
          "metadata": {}
        },
        {
          "output_type": "display_data",
          "data": {
            "text/html": [
              "0.208624280608132"
            ],
            "text/markdown": "0.208624280608132",
            "text/latex": "0.208624280608132",
            "text/plain": [
              "[1] 0.2086243"
            ]
          },
          "metadata": {}
        },
        {
          "output_type": "stream",
          "name": "stdout",
          "text": [
            "[1] \"concave-points-worst\"\n"
          ]
        },
        {
          "output_type": "display_data",
          "data": {
            "text/html": [
              "0.114606223198594"
            ],
            "text/markdown": "0.114606223198594",
            "text/latex": "0.114606223198594",
            "text/plain": [
              "[1] 0.1146062"
            ]
          },
          "metadata": {}
        },
        {
          "output_type": "display_data",
          "data": {
            "text/html": [
              "0.09993"
            ],
            "text/markdown": "0.09993",
            "text/latex": "0.09993",
            "text/plain": [
              "[1] 0.09993"
            ]
          },
          "metadata": {}
        },
        {
          "output_type": "display_data",
          "data": {
            "text/html": [
              "0"
            ],
            "text/markdown": "0",
            "text/latex": "0",
            "text/plain": [
              "[1] 0"
            ]
          },
          "metadata": {}
        },
        {
          "output_type": "display_data",
          "data": {
            "text/html": [
              "0.00432074067909974"
            ],
            "text/markdown": "0.00432074067909974",
            "text/latex": "0.00432074067909974",
            "text/plain": [
              "[1] 0.004320741"
            ]
          },
          "metadata": {}
        },
        {
          "output_type": "display_data",
          "data": {
            "text/html": [
              "0.0657323411959421"
            ],
            "text/markdown": "0.0657323411959421",
            "text/latex": "0.0657323411959421",
            "text/plain": [
              "[1] 0.06573234"
            ]
          },
          "metadata": {}
        },
        {
          "output_type": "stream",
          "name": "stdout",
          "text": [
            "[1] \"symmetry-worst\"\n"
          ]
        },
        {
          "output_type": "display_data",
          "data": {
            "text/html": [
              "0.290075571177504"
            ],
            "text/markdown": "0.290075571177504",
            "text/latex": "0.290075571177504",
            "text/plain": [
              "[1] 0.2900756"
            ]
          },
          "metadata": {}
        },
        {
          "output_type": "display_data",
          "data": {
            "text/html": [
              "0.2822"
            ],
            "text/markdown": "0.2822",
            "text/latex": "0.2822",
            "text/plain": [
              "[1] 0.2822"
            ]
          },
          "metadata": {}
        },
        {
          "output_type": "display_data",
          "data": {
            "text/html": [
              "0.3196"
            ],
            "text/markdown": "0.3196",
            "text/latex": "0.3196",
            "text/plain": [
              "[1] 0.3196"
            ]
          },
          "metadata": {}
        },
        {
          "output_type": "display_data",
          "data": {
            "text/html": [
              "0.00382758353950593"
            ],
            "text/markdown": "0.00382758353950593",
            "text/latex": "0.00382758353950593",
            "text/plain": [
              "[1] 0.003827584"
            ]
          },
          "metadata": {}
        },
        {
          "output_type": "display_data",
          "data": {
            "text/html": [
              "0.0618674675375187"
            ],
            "text/markdown": "0.0618674675375187",
            "text/latex": "0.0618674675375187",
            "text/plain": [
              "[1] 0.06186747"
            ]
          },
          "metadata": {}
        },
        {
          "output_type": "stream",
          "name": "stdout",
          "text": [
            "[1] \"fractal-dimension-worst\"\n"
          ]
        },
        {
          "output_type": "display_data",
          "data": {
            "text/html": [
              "0.0839458172231986"
            ],
            "text/markdown": "0.0839458172231986",
            "text/latex": "0.0839458172231986",
            "text/plain": [
              "[1] 0.08394582"
            ]
          },
          "metadata": {}
        },
        {
          "output_type": "display_data",
          "data": {
            "text/html": [
              "0.08004"
            ],
            "text/markdown": "0.08004",
            "text/latex": "0.08004",
            "text/plain": [
              "[1] 0.08004"
            ]
          },
          "metadata": {}
        },
        {
          "output_type": "display_data",
          "data": {
            "text/html": [
              "0.07427"
            ],
            "text/markdown": "0.07427",
            "text/latex": "0.07427",
            "text/plain": [
              "[1] 0.07427"
            ]
          },
          "metadata": {}
        },
        {
          "output_type": "display_data",
          "data": {
            "text/html": [
              "0.000326209378248224"
            ],
            "text/markdown": "0.000326209378248224",
            "text/latex": "0.000326209378248224",
            "text/plain": [
              "[1] 0.0003262094"
            ]
          },
          "metadata": {}
        },
        {
          "output_type": "display_data",
          "data": {
            "text/html": [
              "0.018061267348894"
            ],
            "text/markdown": "0.018061267348894",
            "text/latex": "0.018061267348894",
            "text/plain": [
              "[1] 0.01806127"
            ]
          },
          "metadata": {}
        }
      ]
    },
    {
      "cell_type": "markdown",
      "source": [
        "Tabela de frequência:\n",
        "\n",
        "* Frequência absoluta (n_i)\n",
        "\n",
        "* Frequência relativa (f_i)\n",
        "\n",
        "* Frequência percentual (p_i)"
      ],
      "metadata": {
        "id": "YWLVL5o4CbT6"
      }
    },
    {
      "cell_type": "code",
      "source": [
        "# Encontrar os índices das colunas \"diagnosis\" e \"area-mean\" no dataframe x\n",
        "start_col <- which(colnames(x) == \"diagnosis\")\n",
        "end_col <- which(colnames(x) == \"area-mean\")\n",
        "\n",
        "# Selecionar as colunas entre diagnosis e area-mean (inclusive)\n",
        "colunas_selecionadas <- colnames(x)[start_col:end_col]\n",
        "\n",
        "# Função que gera tabela de frequência para variável contínua ou categórica\n",
        "tabela_frequencia_geral <- function(x, nome_var) {\n",
        "  if (is.numeric(x)) {\n",
        "    n_i <- table(cut(x, breaks = seq(floor(min(x, na.rm = TRUE)), ceiling(max(x, na.rm = TRUE)), length.out = 5), right = FALSE))\n",
        "  } else {\n",
        "    n_i <- table(x)\n",
        "  }\n",
        "\n",
        "  f_i <- prop.table(n_i)\n",
        "  p_i <- 100 * f_i\n",
        "\n",
        "  n_i <- c(n_i, sum(n_i))\n",
        "  f_i <- c(f_i, sum(f_i))\n",
        "  p_i <- c(p_i, sum(p_i))\n",
        "\n",
        "  names(n_i)[length(n_i)] <- \"Total\"\n",
        "\n",
        "  tab <- cbind(Valores = names(n_i), n_i, f_i = round(f_i, 3), p_i = round(p_i, 3))\n",
        "  rownames(tab) <- NULL\n",
        "  tab <- as.data.frame(tab)\n",
        "  colnames(tab) <- c(nome_var, \"n_i\", \"f_i\", \"p_i\")\n",
        "  tab[,2] <- as.integer(tab[,2])\n",
        "\n",
        "  return(tab)\n",
        "}\n",
        "\n",
        "# Gerar tabelas para as colunas selecionadas no dataframe x\n",
        "lista_tabelas <- list()\n",
        "\n",
        "for (col in colunas_selecionadas) {\n",
        "  lista_tabelas[[col]] <- tabela_frequencia_geral(x[[col]], col)\n",
        "}\n",
        "\n",
        "# Imprimir as tabelas\n",
        "for (nome in names(lista_tabelas)) {\n",
        "  cat(\"Tabela de frequência para:\", nome, \"\\n\")\n",
        "  print(lista_tabelas[[nome]])\n",
        "  cat(\"\\n\\n\")\n",
        "}\n"
      ],
      "metadata": {
        "colab": {
          "base_uri": "https://localhost:8080/"
        },
        "id": "gaxCYvBDSh5P",
        "outputId": "86973b22-8ea3-4953-e307-803954462f84"
      },
      "execution_count": null,
      "outputs": [
        {
          "output_type": "stream",
          "name": "stdout",
          "text": [
            "Tabela de frequência para: diagnosis \n",
            "  diagnosis n_i   f_i    p_i\n",
            "1         B 357 0.627 62.742\n",
            "2         M 212 0.373 37.258\n",
            "3     Total 569     1    100\n",
            "\n",
            "\n",
            "Tabela de frequência para: radius-mean \n",
            "  radius-mean n_i   f_i    p_i\n",
            "1    [6,11.8) 148  0.26 26.011\n",
            "2 [11.8,17.5) 318 0.559 55.888\n",
            "3 [17.5,23.2)  93 0.163 16.344\n",
            "4   [23.2,29)  10 0.018  1.757\n",
            "5       Total 569     1    100\n",
            "\n",
            "\n",
            "Tabela de frequência para: texture-mean \n",
            "  texture-mean n_i   f_i    p_i\n",
            "1     [9,16.8) 167 0.293  29.35\n",
            "2  [16.8,24.5) 334 0.587 58.699\n",
            "3  [24.5,32.2)  64 0.112 11.248\n",
            "4    [32.2,40)   4 0.007  0.703\n",
            "5        Total 569     1    100\n",
            "\n",
            "\n",
            "Tabela de frequência para: perimeter-mean \n",
            "  perimeter-mean n_i   f_i    p_i\n",
            "1      [43,79.5) 205  0.36 36.028\n",
            "2     [79.5,116) 264 0.464 46.397\n",
            "3      [116,152)  89 0.156 15.641\n",
            "4      [152,189)  11 0.019  1.933\n",
            "5          Total 569     1    100\n",
            "\n",
            "\n",
            "Tabela de frequência para: area-mean \n",
            "            area-mean n_i   f_i    p_i\n",
            "1           [143,732) 413 0.727 72.711\n",
            "2      [732,1.32e+03) 130 0.229 22.887\n",
            "3 [1.32e+03,1.91e+03)  22 0.039  3.873\n",
            "4  [1.91e+03,2.5e+03)   3 0.005  0.528\n",
            "5               Total 568     1    100\n",
            "\n",
            "\n"
          ]
        }
      ]
    },
    {
      "cell_type": "markdown",
      "source": [
        "Histograma"
      ],
      "metadata": {
        "id": "sxdDhD8h6Lc_"
      }
    },
    {
      "cell_type": "code",
      "source": [
        "install.packages(\"fitdistrplus\")\n",
        "library(\"fitdistrplus\")"
      ],
      "metadata": {
        "colab": {
          "base_uri": "https://localhost:8080/"
        },
        "id": "Ruo0E5OWbRPB",
        "outputId": "67d1ba7f-f56b-4104-d30d-f8b33f64494d"
      },
      "execution_count": null,
      "outputs": [
        {
          "output_type": "stream",
          "name": "stderr",
          "text": [
            "Installing package into ‘/usr/local/lib/R/site-library’\n",
            "(as ‘lib’ is unspecified)\n",
            "\n"
          ]
        }
      ]
    },
    {
      "cell_type": "code",
      "source": [
        "ajuste_norm <- fitdist(x$`perimeter-worst`,\"norm\")\n",
        "plot(ajuste_norm)\n",
        "ajuste_norm <- fitdist(x$`perimeter-worst`,\"gamma\")\n",
        "plot(ajuste_norm)"
      ],
      "metadata": {
        "id": "sXwTrOtpbrso",
        "colab": {
          "base_uri": "https://localhost:8080/",
          "height": 857
        },
        "outputId": "7bcbf216-b5ae-44e2-d71b-a893db191146"
      },
      "execution_count": null,
      "outputs": [
        {
          "output_type": "display_data",
          "data": {
            "text/plain": [
              "Plot with title “P-P plot”"
            ],
            "image/png": "[encoded data removed]"
          },
          "metadata": {
            "image/png": {
              "width": 420,
              "height": 420
            }
          }
        },
        {
          "output_type": "display_data",
          "data": {
            "text/plain": [
              "Plot with title “P-P plot”"
            ],
            "image/png": "[encoded data removed]"
          },
          "metadata": {
            "image/png": {
              "width": 420,
              "height": 420
            }
          }
        }
      ]
    },
    {
      "cell_type": "code",
      "source": [
        "hist(x$`radius-mean`)\n",
        "hist(x$`texture-mean`)\n",
        "hist(x$`perimeter-worst`)"
      ],
      "metadata": {
        "id": "2pNmy6mC53TJ",
        "colab": {
          "base_uri": "https://localhost:8080/",
          "height": 1000
        },
        "outputId": "5cff21e6-96d5-4a18-c275-ef7a62989fee"
      },
      "execution_count": null,
      "outputs": [
        {
          "output_type": "display_data",
          "data": {
            "text/plain": [
              "Plot with title “Histogram of x$`radius-mean`”"
            ],
            "image/png": "[encoded data removed]"
          },
          "metadata": {
            "image/png": {
              "width": 420,
              "height": 420
            }
          }
        },
        {
          "output_type": "display_data",
          "data": {
            "text/plain": [
              "Plot with title “Histogram of x$`texture-mean`”"
            ],
            "image/png": "[encoded data removed]"
          },
          "metadata": {
            "image/png": {
              "width": 420,
              "height": 420
            }
          }
        },
        {
          "output_type": "display_data",
          "data": {
            "text/plain": [
              "Plot with title “Histogram of x$`perimeter-worst`”"
            ],
            "image/png": "[encoded data removed]"
          },
          "metadata": {
            "image/png": {
              "width": 420,
              "height": 420
            }
          }
        }
      ]
    },
    {
      "cell_type": "code",
      "source": [
        "x_seq<- seq(min(x$`perimeter-worst`),max(x$`perimeter-worst`),length.out = 200)\n",
        "hist(x$`perimeter-worst`, probability = TRUE,col = \"blue\")\n",
        "lines(density(x$`perimeter-worst`))\n"
      ],
      "metadata": {
        "colab": {
          "base_uri": "https://localhost:8080/",
          "height": 437
        },
        "id": "AFYtO3j_C-4s",
        "outputId": "68ed1d10-a0b1-46d8-cde2-b21775337c73"
      },
      "execution_count": null,
      "outputs": [
        {
          "output_type": "display_data",
          "data": {
            "text/plain": [
              "Plot with title “Histogram of x$`perimeter-worst`”"
            ],
            "image/png": "[encoded data removed]"
          },
          "metadata": {
            "image/png": {
              "width": 420,
              "height": 420
            }
          }
        }
      ]
    },
    {
      "cell_type": "markdown",
      "source": [
        "BOXPLOT"
      ],
      "metadata": {
        "id": "XeLtoBoFAiE8"
      }
    },
    {
      "cell_type": "code",
      "source": [
        "concav = boxplot(x$`concavity-mean`, main = \"area\",col = \"red\")\n",
        "compac = boxplot(x$`compactness-mean`, main = \"area\",col = \"Green\")\n",
        "smooth = boxplot(x$`smoothness-mean`, main = \"area\",col = \"Blue\")\n"
      ],
      "metadata": {
        "colab": {
          "base_uri": "https://localhost:8080/",
          "height": 1000
        },
        "id": "ukAek375Af6k",
        "outputId": "e48379fa-08bd-4e45-a2ec-5749f677b050"
      },
      "execution_count": null,
      "outputs": [
        {
          "output_type": "display_data",
          "data": {
            "text/plain": [
              "Plot with title “area”"
            ],
            "image/png": "[encoded data removed]"
          },
          "metadata": {
            "image/png": {
              "width": 420,
              "height": 420
            }
          }
        },
        {
          "output_type": "display_data",
          "data": {
            "text/plain": [
              "Plot with title “area”"
            ],
            "image/png": "[encoded data removed]"
          },
          "metadata": {
            "image/png": {
              "width": 420,
              "height": 420
            }
          }
        },
        {
          "output_type": "display_data",
          "data": {
            "text/plain": [
              "Plot with title “area”"
            ],
            "image/png": "[encoded data removed]"
          },
          "metadata": {
            "image/png": {
              "width": 420,
              "height": 420
            }
          }
        }
      ]
    },
    {
      "cell_type": "markdown",
      "source": [
        "tabela cruzada"
      ],
      "metadata": {
        "id": "CDTjEPVHEImw"
      }
    },
    {
      "cell_type": "code",
      "source": [
        "x$`concavity-cat` <- cut(x$`concavity-mean`, breaks = 3, labels = c(\"Pequeno\",\"Medio\",\"Grande\"))\n",
        "tabCruzada <- table(x$`concavity-cat`, x$`diagnosis`)"
      ],
      "metadata": {
        "id": "u9bvTJawEKWP"
      },
      "execution_count": null,
      "outputs": []
    },
    {
      "cell_type": "code",
      "source": [
        "teste <- chisq.test(tabCruzada)\n",
        "\n",
        "resultado <- data.frame(\n",
        "  Estatistica_QuiQuadrado = round(teste$statistic, 3),\n",
        "  Graus_de_Liberdade = teste$parameter,\n",
        "  P_valor = format.pval(teste$p.value, digits = 4, scientific = TRUE)\n",
        ")\n",
        "\n",
        "print(resultado)\n",
        "\n",
        "cat(\"\\n--- Tabela Observada ---\\n\")\n",
        "print(teste$observed)\n",
        "\n"
      ],
      "metadata": {
        "colab": {
          "base_uri": "https://localhost:8080/"
        },
        "id": "qN4cMvmmrjH0",
        "outputId": "aaac0a8f-540a-4803-80a4-f99f4520dd06"
      },
      "execution_count": null,
      "outputs": [
        {
          "output_type": "stream",
          "name": "stdout",
          "text": [
            "          Estatistica_QuiQuadrado Graus_de_Liberdade   P_valor\n",
            "X-squared                  223.77                  2 < 2.2e-16\n",
            "\n",
            "--- Tabela Observada ---\n",
            "         \n",
            "            B   M\n",
            "  Pequeno 349  93\n",
            "  Medio     5 104\n",
            "  Grande    3  15\n"
          ]
        }
      ]
    },
    {
      "cell_type": "code",
      "source": [
        "cor.test(x$`radius-mean`, x$`texture-mean`)"
      ],
      "metadata": {
        "colab": {
          "base_uri": "https://localhost:8080/",
          "height": 208
        },
        "id": "PfQy-LTlj1z9",
        "outputId": "2a334e71-043e-46c1-bdcf-47216710b051"
      },
      "execution_count": null,
      "outputs": [
        {
          "output_type": "display_data",
          "data": {
            "text/plain": [
              "\n",
              "\tPearson's product-moment correlation\n",
              "\n",
              "data:  x$`radius-mean` and x$`texture-mean`\n",
              "t = 8.1488, df = 567, p-value = 2.36e-15\n",
              "alternative hypothesis: true correlation is not equal to 0\n",
              "95 percent confidence interval:\n",
              " 0.2481897 0.3954548\n",
              "sample estimates:\n",
              "      cor \n",
              "0.3237819 \n"
            ]
          },
          "metadata": {}
        }
      ]
    },
    {
      "cell_type": "code",
      "source": [
        "plot(x$`radius-mean`, x$`texture-mean`,\n",
        "     main = \"Dispersão: Radius Mean vs Texture Mean\",\n",
        "     xlab = \"Radius Mean\",\n",
        "     ylab = \"Texture Mean\",\n",
        "     pch = 19, col = \"darkblue\")"
      ],
      "metadata": {
        "id": "gEZJghnsFsvO",
        "colab": {
          "base_uri": "https://localhost:8080/",
          "height": 437
        },
        "outputId": "784a5cf3-1ba7-4944-d513-55851ab473e1"
      },
      "execution_count": null,
      "outputs": [
        {
          "output_type": "display_data",
          "data": {
            "text/plain": [
              "Plot with title “Dispersão: Radius Mean vs Texture Mean”"
            ],
            "image/png": "[encoded data removed]"
          },
          "metadata": {
            "image/png": {
              "width": 420,
              "height": 420
            }
          }
        }
      ]
    },
    {
      "cell_type": "code",
      "source": [
        "y <- tapply(x$`radius-mean`, x$diagnosis, summary)\n",
        "print(y)\n",
        "y <- tapply(x$`radius-mean`, x$diagnosis, var)\n",
        "print(y)\n",
        "y <- tapply(x$`radius-mean`, x$diagnosis, length)\n",
        "print(y)"
      ],
      "metadata": {
        "colab": {
          "base_uri": "https://localhost:8080/"
        },
        "id": "PxjW8Bi3kFCH",
        "outputId": "50d18382-8602-4b79-e8e9-063d535331d4"
      },
      "execution_count": null,
      "outputs": [
        {
          "output_type": "stream",
          "name": "stdout",
          "text": [
            "$B\n",
            "   Min. 1st Qu.  Median    Mean 3rd Qu.    Max. \n",
            "  6.981  11.080  12.200  12.147  13.370  17.850 \n",
            "\n",
            "$M\n",
            "   Min. 1st Qu.  Median    Mean 3rd Qu.    Max. \n",
            "  10.95   15.07   17.32   17.46   19.59   28.11 \n",
            "\n",
            "        B         M \n",
            " 3.170222 10.265431 \n",
            "  B   M \n",
            "357 212 \n"
          ]
        }
      ]
    },
    {
      "cell_type": "code",
      "source": [
        "boxplot(x$`radius-mean` ~ x$diagnosis,\n",
        "        main = \"Radius Mean por Diagnóstico\",\n",
        "        xlab = \"Diagnóstico (B = Benigno, M = Maligno)\",\n",
        "        ylab = \"Radius Mean\",\n",
        "        col = c(\"lightgreen\", \"lightcoral\"))"
      ],
      "metadata": {
        "colab": {
          "base_uri": "https://localhost:8080/",
          "height": 437
        },
        "id": "q0H1YEeUkH5G",
        "outputId": "1080a67d-0922-4f26-a10b-a4a2d5766cf4"
      },
      "execution_count": null,
      "outputs": [
        {
          "output_type": "display_data",
          "data": {
            "text/plain": [
              "Plot with title “Radius Mean por Diagnóstico”"
            ],
            "image/png": "[encoded data removed]"
          },
          "metadata": {
            "image/png": {
              "width": 420,
              "height": 420
            }
          }
        }
      ]
    }
  ]
}